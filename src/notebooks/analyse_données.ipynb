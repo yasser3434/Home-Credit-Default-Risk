{
  "cells": [
    {
      "cell_type": "markdown",
      "id": "6704edb1",
      "metadata": {
        "id": "6704edb1"
      },
      "source": [
        "Groupe :\n"
      ]
    },
    {
      "cell_type": "markdown",
      "id": "b0c3342a",
      "metadata": {
        "id": "b0c3342a"
      },
      "source": [
        "# 📊 Home Credit Default Risk\n",
        "Ce notebook a pour objectif de prédire le risque de défaut de paiement en utilisant des techniques de prétraitement, réduction de dimension, détection des valeurs aberrantes, et modélisation par réseau de neurones."
      ]
    },
    {
      "cell_type": "markdown",
      "id": "a7dbf888",
      "metadata": {
        "id": "a7dbf888"
      },
      "source": [
        "### 4️⃣ Détection et suppression des valeurs aberrantes\n",
        "Utilisation de méthodes statistiques ou de modèles comme Isolation Forest pour détecter les outliers."
      ]
    },
    {
      "cell_type": "markdown",
      "id": "e74cdd35",
      "metadata": {
        "id": "e74cdd35"
      },
      "source": [
        "## Analyse de Données"
      ]
    },
    {
      "cell_type": "markdown",
      "id": "51bc21be",
      "metadata": {
        "id": "51bc21be"
      },
      "source": [
        "### 🧾 Description des colonnes principales\n",
        "\n",
        "#### 🔑 Identifiants et cible\n",
        "\n",
        "* **`SK_ID_CURR`** : Identifiant unique du client.\n",
        "* **`TARGET`** : Variable cible indiquant si le prêt a été remboursé (0) ou non (1).\n",
        "\n",
        "#### 👤 Informations personnelles\n",
        "\n",
        "* **`NAME_CONTRACT_TYPE`** : Type de contrat (par exemple, prêt en espèces).\n",
        "* **`CODE_GENDER`** : Sexe du client (`M`, `F`, ou `X`).\n",
        "* **`FLAG_OWN_CAR`** : Possession d'une voiture (`Y` ou `N`).\n",
        "* **`FLAG_OWN_REALTY`** : Possession d'un bien immobilier (`Y` ou `N`).\n",
        "* **`CNT_CHILDREN`** : Nombre d'enfants à charge.\n",
        "* **`NAME_TYPE_SUITE`** : Qui accompagne le client lors de la demande (par exemple, seul, famille).\n",
        "* **`NAME_INCOME_TYPE`** : Type de revenu (par exemple, salarié, retraité).\n",
        "* **`NAME_EDUCATION_TYPE`** : Niveau d'éducation.\n",
        "* **`NAME_FAMILY_STATUS`** : Situation familiale.\n",
        "* **`NAME_HOUSING_TYPE`** : Type de logement (par exemple, maison, appartement).\n",
        "* **`OCCUPATION_TYPE`** : Profession du client.\n",
        "* **`CNT_FAM_MEMBERS`** : Nombre de membres de la famille.\n",
        "\n",
        "#### 💰 Informations financières\n",
        "\n",
        "* **`AMT_INCOME_TOTAL`** : Revenu annuel total.\n",
        "* **`AMT_CREDIT`** : Montant du crédit demandé.\n",
        "* **`AMT_ANNUITY`** : Montant de l'annuité du prêt.\n",
        "* **`AMT_GOODS_PRICE`** : Prix des biens pour lesquels le prêt est demandé.\n",
        "\n",
        "#### 📅 Informations temporelles\n",
        "\n",
        "* **`DAYS_BIRTH`** : Âge du client en jours (négatif).\n",
        "* **`DAYS_EMPLOYED`** : Nombre de jours d'emploi (négatif).\n",
        "* **`DAYS_REGISTRATION`** : Nombre de jours depuis l'enregistrement du client.\n",
        "* **`DAYS_ID_PUBLISH`** : Nombre de jours depuis la dernière modification de l'identifiant.\n",
        "* **`OWN_CAR_AGE`** : Âge de la voiture en années.\n",
        "\n",
        "#### 📍 Informations géographiques\n",
        "\n",
        "* **`REGION_POPULATION_RELATIVE`** : Population relative de la région.\n",
        "* **`REGION_RATING_CLIENT`** : Évaluation de la région par le client.\n",
        "* **`REGION_RATING_CLIENT_W_CITY`** : Évaluation de la région avec la ville.\n",
        "* **`WEEKDAY_APPR_PROCESS_START`** : Jour de la semaine du début du processus de demande.\n",
        "* **`HOUR_APPR_PROCESS_START`** : Heure du début du processus de demande.\n",
        "\n",
        "#### 📞 Informations de contact\n",
        "\n",
        "* **`FLAG_MOBIL`** : Possession d'un téléphone mobile.\n",
        "* **`FLAG_EMP_PHONE`** : Possession d'un téléphone professionnel.\n",
        "* **`FLAG_WORK_PHONE`** : Possession d'un téléphone de travail.\n",
        "* **`FLAG_CONT_MOBILE`** : Utilisation continue du mobile.\n",
        "* **`FLAG_PHONE`** : Possession d'un téléphone.\n",
        "* **`FLAG_EMAIL`** : Possession d'une adresse e-mail.\n",
        "\n",
        "#### 🏢 Informations sur le logement\n",
        "\n",
        "* **`APARTMENTS_AVG`**, **`BASEMENTAREA_AVG`**, **`YEARS_BUILD_AVG`**, etc. : Informations moyennes sur le logement (surface, année de construction, etc.).\n",
        "\n",
        "#### 📄 Documents fournis\n",
        "\n",
        "* **`FLAG_DOCUMENT_2`** à **`FLAG_DOCUMENT_21`** : Indicateurs de documents fournis par le client.\n",
        "\n",
        "#### 📊 Sources externes\n",
        "\n",
        "* **`EXT_SOURCE_1`**, **`EXT_SOURCE_2`**, **`EXT_SOURCE_3`** : Scores externes d'évaluation du risque.\n",
        "\n",
        "#### 🔁 Historique de crédit\n",
        "\n",
        "* **`AMT_REQ_CREDIT_BUREAU_HOUR`**, **`AMT_REQ_CREDIT_BUREAU_DAY`**, etc. : Nombre de demandes de crédit auprès du bureau de crédit sur différentes périodes.\n"
      ]
    },
    {
      "cell_type": "markdown",
      "id": "534ed206",
      "metadata": {
        "id": "534ed206"
      },
      "source": [
        "### 1️⃣ Importation des librairies\n",
        "On commence par importer les bibliothèques nécessaires à l'analyse."
      ]
    },
    {
      "cell_type": "code",
      "execution_count": 1,
      "id": "04544ec1",
      "metadata": {
        "id": "04544ec1"
      },
      "outputs": [],
      "source": [
        "import pandas as pd\n",
        "import matplotlib.pyplot as plt\n",
        "import seaborn as sns\n",
        "from sklearn import preprocessing\n",
        "from sklearn.impute import KNNImputer\n",
        "import numpy as np\n",
        "from sklearn.decomposition import PCA\n",
        "from sklearn.preprocessing import StandardScaler, MinMaxScaler\n",
        "from sklearn.model_selection import train_test_split\n",
        "from imblearn.over_sampling import RandomOverSampler\n",
        "import xgboost as xgb\n",
        "from xgboost import XGBClassifier\n",
        "from sklearn.metrics import accuracy_score, classification_report, confusion_matrix\n",
        "from tensorflow.keras.models import Sequential\n",
        "from tensorflow.keras.layers import Dense, Dropout\n",
        "from tensorflow.keras.callbacks import EarlyStopping\n",
        "from sklearn.metrics import roc_auc_score"
      ]
    },
    {
      "cell_type": "code",
      "execution_count": 2,
      "id": "0a7d93a3",
      "metadata": {
        "id": "0a7d93a3"
      },
      "outputs": [],
      "source": [
        "# Pouvoir afficher toutes les sorties\n",
        "pd.set_option('display.max_rows', None)\n",
        "pd.set_option('display.max_columns', None)\n",
        "pd.set_option('display.width', 0)"
      ]
    },
    {
      "cell_type": "markdown",
      "id": "b31361f3",
      "metadata": {
        "id": "b31361f3"
      },
      "source": [
        "### 2️⃣ Chargement et exploration des données\n",
        "Chargement du jeu de données et exploration initiale pour comprendre sa structure."
      ]
    },
    {
      "cell_type": "code",
      "execution_count": 4,
      "id": "d6cabdc7",
      "metadata": {
        "colab": {
          "base_uri": "https://localhost:8080/",
          "height": 295
        },
        "id": "d6cabdc7",
        "outputId": "bc26608e-6348-44cf-fd83-efbcc5d025a1"
      },
      "outputs": [
        {
          "output_type": "execute_result",
          "data": {
            "text/plain": [
              "   SK_ID_CURR  TARGET NAME_CONTRACT_TYPE CODE_GENDER FLAG_OWN_CAR  \\\n",
              "0      100002       1         Cash loans           M            N   \n",
              "1      100003       0         Cash loans           F            N   \n",
              "2      100004       0    Revolving loans           M            Y   \n",
              "3      100006       0         Cash loans           F            N   \n",
              "4      100007       0         Cash loans           M            N   \n",
              "\n",
              "  FLAG_OWN_REALTY  CNT_CHILDREN  AMT_INCOME_TOTAL  AMT_CREDIT  AMT_ANNUITY  \\\n",
              "0               Y             0          202500.0    406597.5      24700.5   \n",
              "1               N             0          270000.0   1293502.5      35698.5   \n",
              "2               Y             0           67500.0    135000.0       6750.0   \n",
              "3               Y             0          135000.0    312682.5      29686.5   \n",
              "4               Y             0          121500.0    513000.0      21865.5   \n",
              "\n",
              "   AMT_GOODS_PRICE NAME_TYPE_SUITE NAME_INCOME_TYPE  \\\n",
              "0         351000.0   Unaccompanied          Working   \n",
              "1        1129500.0          Family    State servant   \n",
              "2         135000.0   Unaccompanied          Working   \n",
              "3         297000.0   Unaccompanied          Working   \n",
              "4         513000.0   Unaccompanied          Working   \n",
              "\n",
              "             NAME_EDUCATION_TYPE    NAME_FAMILY_STATUS  NAME_HOUSING_TYPE  \\\n",
              "0  Secondary / secondary special  Single / not married  House / apartment   \n",
              "1               Higher education               Married  House / apartment   \n",
              "2  Secondary / secondary special  Single / not married  House / apartment   \n",
              "3  Secondary / secondary special        Civil marriage  House / apartment   \n",
              "4  Secondary / secondary special  Single / not married  House / apartment   \n",
              "\n",
              "   REGION_POPULATION_RELATIVE  DAYS_BIRTH  DAYS_EMPLOYED  DAYS_REGISTRATION  \\\n",
              "0                    0.018801       -9461           -637            -3648.0   \n",
              "1                    0.003541      -16765          -1188            -1186.0   \n",
              "2                    0.010032      -19046           -225            -4260.0   \n",
              "3                    0.008019      -19005          -3039            -9833.0   \n",
              "4                    0.028663      -19932          -3038            -4311.0   \n",
              "\n",
              "   DAYS_ID_PUBLISH  OWN_CAR_AGE  FLAG_MOBIL  FLAG_EMP_PHONE  FLAG_WORK_PHONE  \\\n",
              "0            -2120          NaN           1               1                0   \n",
              "1             -291          NaN           1               1                0   \n",
              "2            -2531         26.0           1               1                1   \n",
              "3            -2437          NaN           1               1                0   \n",
              "4            -3458          NaN           1               1                0   \n",
              "\n",
              "   FLAG_CONT_MOBILE  FLAG_PHONE  FLAG_EMAIL OCCUPATION_TYPE  CNT_FAM_MEMBERS  \\\n",
              "0               1.0         1.0         0.0        Laborers              1.0   \n",
              "1               1.0         1.0         0.0      Core staff              2.0   \n",
              "2               1.0         1.0         0.0        Laborers              1.0   \n",
              "3               1.0         0.0         0.0        Laborers              2.0   \n",
              "4               1.0         0.0         0.0      Core staff              1.0   \n",
              "\n",
              "   REGION_RATING_CLIENT  REGION_RATING_CLIENT_W_CITY  \\\n",
              "0                   2.0                          2.0   \n",
              "1                   1.0                          1.0   \n",
              "2                   2.0                          2.0   \n",
              "3                   2.0                          2.0   \n",
              "4                   2.0                          2.0   \n",
              "\n",
              "  WEEKDAY_APPR_PROCESS_START  HOUR_APPR_PROCESS_START  \\\n",
              "0                  WEDNESDAY                     10.0   \n",
              "1                     MONDAY                     11.0   \n",
              "2                     MONDAY                      9.0   \n",
              "3                  WEDNESDAY                     17.0   \n",
              "4                   THURSDAY                     11.0   \n",
              "\n",
              "   REG_REGION_NOT_LIVE_REGION  REG_REGION_NOT_WORK_REGION  \\\n",
              "0                         0.0                         0.0   \n",
              "1                         0.0                         0.0   \n",
              "2                         0.0                         0.0   \n",
              "3                         0.0                         0.0   \n",
              "4                         0.0                         0.0   \n",
              "\n",
              "   LIVE_REGION_NOT_WORK_REGION  REG_CITY_NOT_LIVE_CITY  \\\n",
              "0                          0.0                     0.0   \n",
              "1                          0.0                     0.0   \n",
              "2                          0.0                     0.0   \n",
              "3                          0.0                     0.0   \n",
              "4                          0.0                     0.0   \n",
              "\n",
              "   REG_CITY_NOT_WORK_CITY  LIVE_CITY_NOT_WORK_CITY       ORGANIZATION_TYPE  \\\n",
              "0                     0.0                      0.0  Business Entity Type 3   \n",
              "1                     0.0                      0.0                  School   \n",
              "2                     0.0                      0.0              Government   \n",
              "3                     0.0                      0.0  Business Entity Type 3   \n",
              "4                     1.0                      1.0                Religion   \n",
              "\n",
              "   EXT_SOURCE_1  EXT_SOURCE_2  EXT_SOURCE_3  APARTMENTS_AVG  BASEMENTAREA_AVG  \\\n",
              "0      0.083037      0.262949      0.139376          0.0247            0.0369   \n",
              "1      0.311267      0.622246           NaN          0.0959            0.0529   \n",
              "2           NaN      0.555912      0.729567             NaN               NaN   \n",
              "3           NaN      0.650442           NaN             NaN               NaN   \n",
              "4           NaN      0.322738           NaN             NaN               NaN   \n",
              "\n",
              "   YEARS_BEGINEXPLUATATION_AVG  YEARS_BUILD_AVG  COMMONAREA_AVG  \\\n",
              "0                       0.9722           0.6192          0.0143   \n",
              "1                       0.9851           0.7960          0.0605   \n",
              "2                          NaN              NaN             NaN   \n",
              "3                          NaN              NaN             NaN   \n",
              "4                          NaN              NaN             NaN   \n",
              "\n",
              "   ELEVATORS_AVG  ENTRANCES_AVG  FLOORSMAX_AVG  FLOORSMIN_AVG  LANDAREA_AVG  \\\n",
              "0           0.00         0.0690         0.0833         0.1250        0.0369   \n",
              "1           0.08         0.0345         0.2917         0.3333        0.0130   \n",
              "2            NaN            NaN            NaN            NaN           NaN   \n",
              "3            NaN            NaN            NaN            NaN           NaN   \n",
              "4            NaN            NaN            NaN            NaN           NaN   \n",
              "\n",
              "   LIVINGAPARTMENTS_AVG  LIVINGAREA_AVG  NONLIVINGAPARTMENTS_AVG  \\\n",
              "0                0.0202          0.0190                   0.0000   \n",
              "1                0.0773          0.0549                   0.0039   \n",
              "2                   NaN             NaN                      NaN   \n",
              "3                   NaN             NaN                      NaN   \n",
              "4                   NaN             NaN                      NaN   \n",
              "\n",
              "   NONLIVINGAREA_AVG  APARTMENTS_MODE  BASEMENTAREA_MODE  \\\n",
              "0             0.0000           0.0252             0.0383   \n",
              "1             0.0098           0.0924             0.0538   \n",
              "2                NaN              NaN                NaN   \n",
              "3                NaN              NaN                NaN   \n",
              "4                NaN              NaN                NaN   \n",
              "\n",
              "   YEARS_BEGINEXPLUATATION_MODE  YEARS_BUILD_MODE  COMMONAREA_MODE  \\\n",
              "0                        0.9722            0.6341           0.0144   \n",
              "1                        0.9851            0.8040           0.0497   \n",
              "2                           NaN               NaN              NaN   \n",
              "3                           NaN               NaN              NaN   \n",
              "4                           NaN               NaN              NaN   \n",
              "\n",
              "   ELEVATORS_MODE  ENTRANCES_MODE  FLOORSMAX_MODE  FLOORSMIN_MODE  \\\n",
              "0          0.0000          0.0690          0.0833          0.1250   \n",
              "1          0.0806          0.0345          0.2917          0.3333   \n",
              "2             NaN             NaN             NaN             NaN   \n",
              "3             NaN             NaN             NaN             NaN   \n",
              "4             NaN             NaN             NaN             NaN   \n",
              "\n",
              "   LANDAREA_MODE  LIVINGAPARTMENTS_MODE  LIVINGAREA_MODE  \\\n",
              "0         0.0377                  0.022           0.0198   \n",
              "1         0.0128                  0.079           0.0554   \n",
              "2            NaN                    NaN              NaN   \n",
              "3            NaN                    NaN              NaN   \n",
              "4            NaN                    NaN              NaN   \n",
              "\n",
              "   NONLIVINGAPARTMENTS_MODE  NONLIVINGAREA_MODE  APARTMENTS_MEDI  \\\n",
              "0                       0.0                 0.0           0.0250   \n",
              "1                       0.0                 0.0           0.0968   \n",
              "2                       NaN                 NaN              NaN   \n",
              "3                       NaN                 NaN              NaN   \n",
              "4                       NaN                 NaN              NaN   \n",
              "\n",
              "   BASEMENTAREA_MEDI  YEARS_BEGINEXPLUATATION_MEDI  YEARS_BUILD_MEDI  \\\n",
              "0             0.0369                        0.9722            0.6243   \n",
              "1             0.0529                        0.9851            0.7987   \n",
              "2                NaN                           NaN               NaN   \n",
              "3                NaN                           NaN               NaN   \n",
              "4                NaN                           NaN               NaN   \n",
              "\n",
              "   COMMONAREA_MEDI  ELEVATORS_MEDI  ENTRANCES_MEDI  FLOORSMAX_MEDI  \\\n",
              "0           0.0144            0.00          0.0690          0.0833   \n",
              "1           0.0608            0.08          0.0345          0.2917   \n",
              "2              NaN             NaN             NaN             NaN   \n",
              "3              NaN             NaN             NaN             NaN   \n",
              "4              NaN             NaN             NaN             NaN   \n",
              "\n",
              "   FLOORSMIN_MEDI  LANDAREA_MEDI  LIVINGAPARTMENTS_MEDI  LIVINGAREA_MEDI  \\\n",
              "0          0.1250         0.0375                 0.0205           0.0193   \n",
              "1          0.3333         0.0132                 0.0787           0.0558   \n",
              "2             NaN            NaN                    NaN              NaN   \n",
              "3             NaN            NaN                    NaN              NaN   \n",
              "4             NaN            NaN                    NaN              NaN   \n",
              "\n",
              "   NONLIVINGAPARTMENTS_MEDI  NONLIVINGAREA_MEDI FONDKAPREMONT_MODE  \\\n",
              "0                    0.0000                0.00   reg oper account   \n",
              "1                    0.0039                0.01   reg oper account   \n",
              "2                       NaN                 NaN                NaN   \n",
              "3                       NaN                 NaN                NaN   \n",
              "4                       NaN                 NaN                NaN   \n",
              "\n",
              "   HOUSETYPE_MODE  TOTALAREA_MODE WALLSMATERIAL_MODE EMERGENCYSTATE_MODE  \\\n",
              "0  block of flats          0.0149       Stone, brick                  No   \n",
              "1  block of flats          0.0714              Block                  No   \n",
              "2             NaN             NaN                NaN                 NaN   \n",
              "3             NaN             NaN                NaN                 NaN   \n",
              "4             NaN             NaN                NaN                 NaN   \n",
              "\n",
              "   OBS_30_CNT_SOCIAL_CIRCLE  DEF_30_CNT_SOCIAL_CIRCLE  \\\n",
              "0                       2.0                       2.0   \n",
              "1                       1.0                       0.0   \n",
              "2                       0.0                       0.0   \n",
              "3                       2.0                       0.0   \n",
              "4                       0.0                       0.0   \n",
              "\n",
              "   OBS_60_CNT_SOCIAL_CIRCLE  DEF_60_CNT_SOCIAL_CIRCLE  DAYS_LAST_PHONE_CHANGE  \\\n",
              "0                       2.0                       2.0                 -1134.0   \n",
              "1                       1.0                       0.0                  -828.0   \n",
              "2                       0.0                       0.0                  -815.0   \n",
              "3                       2.0                       0.0                  -617.0   \n",
              "4                       0.0                       0.0                 -1106.0   \n",
              "\n",
              "   FLAG_DOCUMENT_2  FLAG_DOCUMENT_3  FLAG_DOCUMENT_4  FLAG_DOCUMENT_5  \\\n",
              "0              0.0              1.0              0.0              0.0   \n",
              "1              0.0              1.0              0.0              0.0   \n",
              "2              0.0              0.0              0.0              0.0   \n",
              "3              0.0              1.0              0.0              0.0   \n",
              "4              0.0              0.0              0.0              0.0   \n",
              "\n",
              "   FLAG_DOCUMENT_6  FLAG_DOCUMENT_7  FLAG_DOCUMENT_8  FLAG_DOCUMENT_9  \\\n",
              "0              0.0              0.0              0.0              0.0   \n",
              "1              0.0              0.0              0.0              0.0   \n",
              "2              0.0              0.0              0.0              0.0   \n",
              "3              0.0              0.0              0.0              0.0   \n",
              "4              0.0              0.0              1.0              0.0   \n",
              "\n",
              "   FLAG_DOCUMENT_10  FLAG_DOCUMENT_11  FLAG_DOCUMENT_12  FLAG_DOCUMENT_13  \\\n",
              "0               0.0               0.0               0.0               0.0   \n",
              "1               0.0               0.0               0.0               0.0   \n",
              "2               0.0               0.0               0.0               0.0   \n",
              "3               0.0               0.0               0.0               0.0   \n",
              "4               0.0               0.0               0.0               0.0   \n",
              "\n",
              "   FLAG_DOCUMENT_14  FLAG_DOCUMENT_15  FLAG_DOCUMENT_16  FLAG_DOCUMENT_17  \\\n",
              "0               0.0               0.0               0.0               0.0   \n",
              "1               0.0               0.0               0.0               0.0   \n",
              "2               0.0               0.0               0.0               0.0   \n",
              "3               0.0               0.0               0.0               0.0   \n",
              "4               0.0               0.0               0.0               0.0   \n",
              "\n",
              "   FLAG_DOCUMENT_18  FLAG_DOCUMENT_19  FLAG_DOCUMENT_20  FLAG_DOCUMENT_21  \\\n",
              "0               0.0               0.0               0.0               0.0   \n",
              "1               0.0               0.0               0.0               0.0   \n",
              "2               0.0               0.0               0.0               0.0   \n",
              "3               0.0               0.0               0.0               0.0   \n",
              "4               0.0               0.0               0.0               0.0   \n",
              "\n",
              "   AMT_REQ_CREDIT_BUREAU_HOUR  AMT_REQ_CREDIT_BUREAU_DAY  \\\n",
              "0                         0.0                        0.0   \n",
              "1                         0.0                        0.0   \n",
              "2                         0.0                        0.0   \n",
              "3                         NaN                        NaN   \n",
              "4                         0.0                        0.0   \n",
              "\n",
              "   AMT_REQ_CREDIT_BUREAU_WEEK  AMT_REQ_CREDIT_BUREAU_MON  \\\n",
              "0                         0.0                        0.0   \n",
              "1                         0.0                        0.0   \n",
              "2                         0.0                        0.0   \n",
              "3                         NaN                        NaN   \n",
              "4                         0.0                        0.0   \n",
              "\n",
              "   AMT_REQ_CREDIT_BUREAU_QRT  AMT_REQ_CREDIT_BUREAU_YEAR  \n",
              "0                        0.0                         1.0  \n",
              "1                        0.0                         0.0  \n",
              "2                        0.0                         0.0  \n",
              "3                        NaN                         NaN  \n",
              "4                        0.0                         0.0  "
            ],
            "text/html": [
              "\n",
              "  <div id=\"df-d7c2b424-6bef-4274-aac1-41363ce4c7a9\" class=\"colab-df-container\">\n",
              "    <div>\n",
              "<style scoped>\n",
              "    .dataframe tbody tr th:only-of-type {\n",
              "        vertical-align: middle;\n",
              "    }\n",
              "\n",
              "    .dataframe tbody tr th {\n",
              "        vertical-align: top;\n",
              "    }\n",
              "\n",
              "    .dataframe thead th {\n",
              "        text-align: right;\n",
              "    }\n",
              "</style>\n",
              "<table border=\"1\" class=\"dataframe\">\n",
              "  <thead>\n",
              "    <tr style=\"text-align: right;\">\n",
              "      <th></th>\n",
              "      <th>SK_ID_CURR</th>\n",
              "      <th>TARGET</th>\n",
              "      <th>NAME_CONTRACT_TYPE</th>\n",
              "      <th>CODE_GENDER</th>\n",
              "      <th>FLAG_OWN_CAR</th>\n",
              "      <th>FLAG_OWN_REALTY</th>\n",
              "      <th>CNT_CHILDREN</th>\n",
              "      <th>AMT_INCOME_TOTAL</th>\n",
              "      <th>AMT_CREDIT</th>\n",
              "      <th>AMT_ANNUITY</th>\n",
              "      <th>AMT_GOODS_PRICE</th>\n",
              "      <th>NAME_TYPE_SUITE</th>\n",
              "      <th>NAME_INCOME_TYPE</th>\n",
              "      <th>NAME_EDUCATION_TYPE</th>\n",
              "      <th>NAME_FAMILY_STATUS</th>\n",
              "      <th>NAME_HOUSING_TYPE</th>\n",
              "      <th>REGION_POPULATION_RELATIVE</th>\n",
              "      <th>DAYS_BIRTH</th>\n",
              "      <th>DAYS_EMPLOYED</th>\n",
              "      <th>DAYS_REGISTRATION</th>\n",
              "      <th>DAYS_ID_PUBLISH</th>\n",
              "      <th>OWN_CAR_AGE</th>\n",
              "      <th>FLAG_MOBIL</th>\n",
              "      <th>FLAG_EMP_PHONE</th>\n",
              "      <th>FLAG_WORK_PHONE</th>\n",
              "      <th>FLAG_CONT_MOBILE</th>\n",
              "      <th>FLAG_PHONE</th>\n",
              "      <th>FLAG_EMAIL</th>\n",
              "      <th>OCCUPATION_TYPE</th>\n",
              "      <th>CNT_FAM_MEMBERS</th>\n",
              "      <th>REGION_RATING_CLIENT</th>\n",
              "      <th>REGION_RATING_CLIENT_W_CITY</th>\n",
              "      <th>WEEKDAY_APPR_PROCESS_START</th>\n",
              "      <th>HOUR_APPR_PROCESS_START</th>\n",
              "      <th>REG_REGION_NOT_LIVE_REGION</th>\n",
              "      <th>REG_REGION_NOT_WORK_REGION</th>\n",
              "      <th>LIVE_REGION_NOT_WORK_REGION</th>\n",
              "      <th>REG_CITY_NOT_LIVE_CITY</th>\n",
              "      <th>REG_CITY_NOT_WORK_CITY</th>\n",
              "      <th>LIVE_CITY_NOT_WORK_CITY</th>\n",
              "      <th>ORGANIZATION_TYPE</th>\n",
              "      <th>EXT_SOURCE_1</th>\n",
              "      <th>EXT_SOURCE_2</th>\n",
              "      <th>EXT_SOURCE_3</th>\n",
              "      <th>APARTMENTS_AVG</th>\n",
              "      <th>BASEMENTAREA_AVG</th>\n",
              "      <th>YEARS_BEGINEXPLUATATION_AVG</th>\n",
              "      <th>YEARS_BUILD_AVG</th>\n",
              "      <th>COMMONAREA_AVG</th>\n",
              "      <th>ELEVATORS_AVG</th>\n",
              "      <th>ENTRANCES_AVG</th>\n",
              "      <th>FLOORSMAX_AVG</th>\n",
              "      <th>FLOORSMIN_AVG</th>\n",
              "      <th>LANDAREA_AVG</th>\n",
              "      <th>LIVINGAPARTMENTS_AVG</th>\n",
              "      <th>LIVINGAREA_AVG</th>\n",
              "      <th>NONLIVINGAPARTMENTS_AVG</th>\n",
              "      <th>NONLIVINGAREA_AVG</th>\n",
              "      <th>APARTMENTS_MODE</th>\n",
              "      <th>BASEMENTAREA_MODE</th>\n",
              "      <th>YEARS_BEGINEXPLUATATION_MODE</th>\n",
              "      <th>YEARS_BUILD_MODE</th>\n",
              "      <th>COMMONAREA_MODE</th>\n",
              "      <th>ELEVATORS_MODE</th>\n",
              "      <th>ENTRANCES_MODE</th>\n",
              "      <th>FLOORSMAX_MODE</th>\n",
              "      <th>FLOORSMIN_MODE</th>\n",
              "      <th>LANDAREA_MODE</th>\n",
              "      <th>LIVINGAPARTMENTS_MODE</th>\n",
              "      <th>LIVINGAREA_MODE</th>\n",
              "      <th>NONLIVINGAPARTMENTS_MODE</th>\n",
              "      <th>NONLIVINGAREA_MODE</th>\n",
              "      <th>APARTMENTS_MEDI</th>\n",
              "      <th>BASEMENTAREA_MEDI</th>\n",
              "      <th>YEARS_BEGINEXPLUATATION_MEDI</th>\n",
              "      <th>YEARS_BUILD_MEDI</th>\n",
              "      <th>COMMONAREA_MEDI</th>\n",
              "      <th>ELEVATORS_MEDI</th>\n",
              "      <th>ENTRANCES_MEDI</th>\n",
              "      <th>FLOORSMAX_MEDI</th>\n",
              "      <th>FLOORSMIN_MEDI</th>\n",
              "      <th>LANDAREA_MEDI</th>\n",
              "      <th>LIVINGAPARTMENTS_MEDI</th>\n",
              "      <th>LIVINGAREA_MEDI</th>\n",
              "      <th>NONLIVINGAPARTMENTS_MEDI</th>\n",
              "      <th>NONLIVINGAREA_MEDI</th>\n",
              "      <th>FONDKAPREMONT_MODE</th>\n",
              "      <th>HOUSETYPE_MODE</th>\n",
              "      <th>TOTALAREA_MODE</th>\n",
              "      <th>WALLSMATERIAL_MODE</th>\n",
              "      <th>EMERGENCYSTATE_MODE</th>\n",
              "      <th>OBS_30_CNT_SOCIAL_CIRCLE</th>\n",
              "      <th>DEF_30_CNT_SOCIAL_CIRCLE</th>\n",
              "      <th>OBS_60_CNT_SOCIAL_CIRCLE</th>\n",
              "      <th>DEF_60_CNT_SOCIAL_CIRCLE</th>\n",
              "      <th>DAYS_LAST_PHONE_CHANGE</th>\n",
              "      <th>FLAG_DOCUMENT_2</th>\n",
              "      <th>FLAG_DOCUMENT_3</th>\n",
              "      <th>FLAG_DOCUMENT_4</th>\n",
              "      <th>FLAG_DOCUMENT_5</th>\n",
              "      <th>FLAG_DOCUMENT_6</th>\n",
              "      <th>FLAG_DOCUMENT_7</th>\n",
              "      <th>FLAG_DOCUMENT_8</th>\n",
              "      <th>FLAG_DOCUMENT_9</th>\n",
              "      <th>FLAG_DOCUMENT_10</th>\n",
              "      <th>FLAG_DOCUMENT_11</th>\n",
              "      <th>FLAG_DOCUMENT_12</th>\n",
              "      <th>FLAG_DOCUMENT_13</th>\n",
              "      <th>FLAG_DOCUMENT_14</th>\n",
              "      <th>FLAG_DOCUMENT_15</th>\n",
              "      <th>FLAG_DOCUMENT_16</th>\n",
              "      <th>FLAG_DOCUMENT_17</th>\n",
              "      <th>FLAG_DOCUMENT_18</th>\n",
              "      <th>FLAG_DOCUMENT_19</th>\n",
              "      <th>FLAG_DOCUMENT_20</th>\n",
              "      <th>FLAG_DOCUMENT_21</th>\n",
              "      <th>AMT_REQ_CREDIT_BUREAU_HOUR</th>\n",
              "      <th>AMT_REQ_CREDIT_BUREAU_DAY</th>\n",
              "      <th>AMT_REQ_CREDIT_BUREAU_WEEK</th>\n",
              "      <th>AMT_REQ_CREDIT_BUREAU_MON</th>\n",
              "      <th>AMT_REQ_CREDIT_BUREAU_QRT</th>\n",
              "      <th>AMT_REQ_CREDIT_BUREAU_YEAR</th>\n",
              "    </tr>\n",
              "  </thead>\n",
              "  <tbody>\n",
              "    <tr>\n",
              "      <th>0</th>\n",
              "      <td>100002</td>\n",
              "      <td>1</td>\n",
              "      <td>Cash loans</td>\n",
              "      <td>M</td>\n",
              "      <td>N</td>\n",
              "      <td>Y</td>\n",
              "      <td>0</td>\n",
              "      <td>202500.0</td>\n",
              "      <td>406597.5</td>\n",
              "      <td>24700.5</td>\n",
              "      <td>351000.0</td>\n",
              "      <td>Unaccompanied</td>\n",
              "      <td>Working</td>\n",
              "      <td>Secondary / secondary special</td>\n",
              "      <td>Single / not married</td>\n",
              "      <td>House / apartment</td>\n",
              "      <td>0.018801</td>\n",
              "      <td>-9461</td>\n",
              "      <td>-637</td>\n",
              "      <td>-3648.0</td>\n",
              "      <td>-2120</td>\n",
              "      <td>NaN</td>\n",
              "      <td>1</td>\n",
              "      <td>1</td>\n",
              "      <td>0</td>\n",
              "      <td>1.0</td>\n",
              "      <td>1.0</td>\n",
              "      <td>0.0</td>\n",
              "      <td>Laborers</td>\n",
              "      <td>1.0</td>\n",
              "      <td>2.0</td>\n",
              "      <td>2.0</td>\n",
              "      <td>WEDNESDAY</td>\n",
              "      <td>10.0</td>\n",
              "      <td>0.0</td>\n",
              "      <td>0.0</td>\n",
              "      <td>0.0</td>\n",
              "      <td>0.0</td>\n",
              "      <td>0.0</td>\n",
              "      <td>0.0</td>\n",
              "      <td>Business Entity Type 3</td>\n",
              "      <td>0.083037</td>\n",
              "      <td>0.262949</td>\n",
              "      <td>0.139376</td>\n",
              "      <td>0.0247</td>\n",
              "      <td>0.0369</td>\n",
              "      <td>0.9722</td>\n",
              "      <td>0.6192</td>\n",
              "      <td>0.0143</td>\n",
              "      <td>0.00</td>\n",
              "      <td>0.0690</td>\n",
              "      <td>0.0833</td>\n",
              "      <td>0.1250</td>\n",
              "      <td>0.0369</td>\n",
              "      <td>0.0202</td>\n",
              "      <td>0.0190</td>\n",
              "      <td>0.0000</td>\n",
              "      <td>0.0000</td>\n",
              "      <td>0.0252</td>\n",
              "      <td>0.0383</td>\n",
              "      <td>0.9722</td>\n",
              "      <td>0.6341</td>\n",
              "      <td>0.0144</td>\n",
              "      <td>0.0000</td>\n",
              "      <td>0.0690</td>\n",
              "      <td>0.0833</td>\n",
              "      <td>0.1250</td>\n",
              "      <td>0.0377</td>\n",
              "      <td>0.022</td>\n",
              "      <td>0.0198</td>\n",
              "      <td>0.0</td>\n",
              "      <td>0.0</td>\n",
              "      <td>0.0250</td>\n",
              "      <td>0.0369</td>\n",
              "      <td>0.9722</td>\n",
              "      <td>0.6243</td>\n",
              "      <td>0.0144</td>\n",
              "      <td>0.00</td>\n",
              "      <td>0.0690</td>\n",
              "      <td>0.0833</td>\n",
              "      <td>0.1250</td>\n",
              "      <td>0.0375</td>\n",
              "      <td>0.0205</td>\n",
              "      <td>0.0193</td>\n",
              "      <td>0.0000</td>\n",
              "      <td>0.00</td>\n",
              "      <td>reg oper account</td>\n",
              "      <td>block of flats</td>\n",
              "      <td>0.0149</td>\n",
              "      <td>Stone, brick</td>\n",
              "      <td>No</td>\n",
              "      <td>2.0</td>\n",
              "      <td>2.0</td>\n",
              "      <td>2.0</td>\n",
              "      <td>2.0</td>\n",
              "      <td>-1134.0</td>\n",
              "      <td>0.0</td>\n",
              "      <td>1.0</td>\n",
              "      <td>0.0</td>\n",
              "      <td>0.0</td>\n",
              "      <td>0.0</td>\n",
              "      <td>0.0</td>\n",
              "      <td>0.0</td>\n",
              "      <td>0.0</td>\n",
              "      <td>0.0</td>\n",
              "      <td>0.0</td>\n",
              "      <td>0.0</td>\n",
              "      <td>0.0</td>\n",
              "      <td>0.0</td>\n",
              "      <td>0.0</td>\n",
              "      <td>0.0</td>\n",
              "      <td>0.0</td>\n",
              "      <td>0.0</td>\n",
              "      <td>0.0</td>\n",
              "      <td>0.0</td>\n",
              "      <td>0.0</td>\n",
              "      <td>0.0</td>\n",
              "      <td>0.0</td>\n",
              "      <td>0.0</td>\n",
              "      <td>0.0</td>\n",
              "      <td>0.0</td>\n",
              "      <td>1.0</td>\n",
              "    </tr>\n",
              "    <tr>\n",
              "      <th>1</th>\n",
              "      <td>100003</td>\n",
              "      <td>0</td>\n",
              "      <td>Cash loans</td>\n",
              "      <td>F</td>\n",
              "      <td>N</td>\n",
              "      <td>N</td>\n",
              "      <td>0</td>\n",
              "      <td>270000.0</td>\n",
              "      <td>1293502.5</td>\n",
              "      <td>35698.5</td>\n",
              "      <td>1129500.0</td>\n",
              "      <td>Family</td>\n",
              "      <td>State servant</td>\n",
              "      <td>Higher education</td>\n",
              "      <td>Married</td>\n",
              "      <td>House / apartment</td>\n",
              "      <td>0.003541</td>\n",
              "      <td>-16765</td>\n",
              "      <td>-1188</td>\n",
              "      <td>-1186.0</td>\n",
              "      <td>-291</td>\n",
              "      <td>NaN</td>\n",
              "      <td>1</td>\n",
              "      <td>1</td>\n",
              "      <td>0</td>\n",
              "      <td>1.0</td>\n",
              "      <td>1.0</td>\n",
              "      <td>0.0</td>\n",
              "      <td>Core staff</td>\n",
              "      <td>2.0</td>\n",
              "      <td>1.0</td>\n",
              "      <td>1.0</td>\n",
              "      <td>MONDAY</td>\n",
              "      <td>11.0</td>\n",
              "      <td>0.0</td>\n",
              "      <td>0.0</td>\n",
              "      <td>0.0</td>\n",
              "      <td>0.0</td>\n",
              "      <td>0.0</td>\n",
              "      <td>0.0</td>\n",
              "      <td>School</td>\n",
              "      <td>0.311267</td>\n",
              "      <td>0.622246</td>\n",
              "      <td>NaN</td>\n",
              "      <td>0.0959</td>\n",
              "      <td>0.0529</td>\n",
              "      <td>0.9851</td>\n",
              "      <td>0.7960</td>\n",
              "      <td>0.0605</td>\n",
              "      <td>0.08</td>\n",
              "      <td>0.0345</td>\n",
              "      <td>0.2917</td>\n",
              "      <td>0.3333</td>\n",
              "      <td>0.0130</td>\n",
              "      <td>0.0773</td>\n",
              "      <td>0.0549</td>\n",
              "      <td>0.0039</td>\n",
              "      <td>0.0098</td>\n",
              "      <td>0.0924</td>\n",
              "      <td>0.0538</td>\n",
              "      <td>0.9851</td>\n",
              "      <td>0.8040</td>\n",
              "      <td>0.0497</td>\n",
              "      <td>0.0806</td>\n",
              "      <td>0.0345</td>\n",
              "      <td>0.2917</td>\n",
              "      <td>0.3333</td>\n",
              "      <td>0.0128</td>\n",
              "      <td>0.079</td>\n",
              "      <td>0.0554</td>\n",
              "      <td>0.0</td>\n",
              "      <td>0.0</td>\n",
              "      <td>0.0968</td>\n",
              "      <td>0.0529</td>\n",
              "      <td>0.9851</td>\n",
              "      <td>0.7987</td>\n",
              "      <td>0.0608</td>\n",
              "      <td>0.08</td>\n",
              "      <td>0.0345</td>\n",
              "      <td>0.2917</td>\n",
              "      <td>0.3333</td>\n",
              "      <td>0.0132</td>\n",
              "      <td>0.0787</td>\n",
              "      <td>0.0558</td>\n",
              "      <td>0.0039</td>\n",
              "      <td>0.01</td>\n",
              "      <td>reg oper account</td>\n",
              "      <td>block of flats</td>\n",
              "      <td>0.0714</td>\n",
              "      <td>Block</td>\n",
              "      <td>No</td>\n",
              "      <td>1.0</td>\n",
              "      <td>0.0</td>\n",
              "      <td>1.0</td>\n",
              "      <td>0.0</td>\n",
              "      <td>-828.0</td>\n",
              "      <td>0.0</td>\n",
              "      <td>1.0</td>\n",
              "      <td>0.0</td>\n",
              "      <td>0.0</td>\n",
              "      <td>0.0</td>\n",
              "      <td>0.0</td>\n",
              "      <td>0.0</td>\n",
              "      <td>0.0</td>\n",
              "      <td>0.0</td>\n",
              "      <td>0.0</td>\n",
              "      <td>0.0</td>\n",
              "      <td>0.0</td>\n",
              "      <td>0.0</td>\n",
              "      <td>0.0</td>\n",
              "      <td>0.0</td>\n",
              "      <td>0.0</td>\n",
              "      <td>0.0</td>\n",
              "      <td>0.0</td>\n",
              "      <td>0.0</td>\n",
              "      <td>0.0</td>\n",
              "      <td>0.0</td>\n",
              "      <td>0.0</td>\n",
              "      <td>0.0</td>\n",
              "      <td>0.0</td>\n",
              "      <td>0.0</td>\n",
              "      <td>0.0</td>\n",
              "    </tr>\n",
              "    <tr>\n",
              "      <th>2</th>\n",
              "      <td>100004</td>\n",
              "      <td>0</td>\n",
              "      <td>Revolving loans</td>\n",
              "      <td>M</td>\n",
              "      <td>Y</td>\n",
              "      <td>Y</td>\n",
              "      <td>0</td>\n",
              "      <td>67500.0</td>\n",
              "      <td>135000.0</td>\n",
              "      <td>6750.0</td>\n",
              "      <td>135000.0</td>\n",
              "      <td>Unaccompanied</td>\n",
              "      <td>Working</td>\n",
              "      <td>Secondary / secondary special</td>\n",
              "      <td>Single / not married</td>\n",
              "      <td>House / apartment</td>\n",
              "      <td>0.010032</td>\n",
              "      <td>-19046</td>\n",
              "      <td>-225</td>\n",
              "      <td>-4260.0</td>\n",
              "      <td>-2531</td>\n",
              "      <td>26.0</td>\n",
              "      <td>1</td>\n",
              "      <td>1</td>\n",
              "      <td>1</td>\n",
              "      <td>1.0</td>\n",
              "      <td>1.0</td>\n",
              "      <td>0.0</td>\n",
              "      <td>Laborers</td>\n",
              "      <td>1.0</td>\n",
              "      <td>2.0</td>\n",
              "      <td>2.0</td>\n",
              "      <td>MONDAY</td>\n",
              "      <td>9.0</td>\n",
              "      <td>0.0</td>\n",
              "      <td>0.0</td>\n",
              "      <td>0.0</td>\n",
              "      <td>0.0</td>\n",
              "      <td>0.0</td>\n",
              "      <td>0.0</td>\n",
              "      <td>Government</td>\n",
              "      <td>NaN</td>\n",
              "      <td>0.555912</td>\n",
              "      <td>0.729567</td>\n",
              "      <td>NaN</td>\n",
              "      <td>NaN</td>\n",
              "      <td>NaN</td>\n",
              "      <td>NaN</td>\n",
              "      <td>NaN</td>\n",
              "      <td>NaN</td>\n",
              "      <td>NaN</td>\n",
              "      <td>NaN</td>\n",
              "      <td>NaN</td>\n",
              "      <td>NaN</td>\n",
              "      <td>NaN</td>\n",
              "      <td>NaN</td>\n",
              "      <td>NaN</td>\n",
              "      <td>NaN</td>\n",
              "      <td>NaN</td>\n",
              "      <td>NaN</td>\n",
              "      <td>NaN</td>\n",
              "      <td>NaN</td>\n",
              "      <td>NaN</td>\n",
              "      <td>NaN</td>\n",
              "      <td>NaN</td>\n",
              "      <td>NaN</td>\n",
              "      <td>NaN</td>\n",
              "      <td>NaN</td>\n",
              "      <td>NaN</td>\n",
              "      <td>NaN</td>\n",
              "      <td>NaN</td>\n",
              "      <td>NaN</td>\n",
              "      <td>NaN</td>\n",
              "      <td>NaN</td>\n",
              "      <td>NaN</td>\n",
              "      <td>NaN</td>\n",
              "      <td>NaN</td>\n",
              "      <td>NaN</td>\n",
              "      <td>NaN</td>\n",
              "      <td>NaN</td>\n",
              "      <td>NaN</td>\n",
              "      <td>NaN</td>\n",
              "      <td>NaN</td>\n",
              "      <td>NaN</td>\n",
              "      <td>NaN</td>\n",
              "      <td>NaN</td>\n",
              "      <td>NaN</td>\n",
              "      <td>NaN</td>\n",
              "      <td>NaN</td>\n",
              "      <td>NaN</td>\n",
              "      <td>NaN</td>\n",
              "      <td>0.0</td>\n",
              "      <td>0.0</td>\n",
              "      <td>0.0</td>\n",
              "      <td>0.0</td>\n",
              "      <td>-815.0</td>\n",
              "      <td>0.0</td>\n",
              "      <td>0.0</td>\n",
              "      <td>0.0</td>\n",
              "      <td>0.0</td>\n",
              "      <td>0.0</td>\n",
              "      <td>0.0</td>\n",
              "      <td>0.0</td>\n",
              "      <td>0.0</td>\n",
              "      <td>0.0</td>\n",
              "      <td>0.0</td>\n",
              "      <td>0.0</td>\n",
              "      <td>0.0</td>\n",
              "      <td>0.0</td>\n",
              "      <td>0.0</td>\n",
              "      <td>0.0</td>\n",
              "      <td>0.0</td>\n",
              "      <td>0.0</td>\n",
              "      <td>0.0</td>\n",
              "      <td>0.0</td>\n",
              "      <td>0.0</td>\n",
              "      <td>0.0</td>\n",
              "      <td>0.0</td>\n",
              "      <td>0.0</td>\n",
              "      <td>0.0</td>\n",
              "      <td>0.0</td>\n",
              "      <td>0.0</td>\n",
              "    </tr>\n",
              "    <tr>\n",
              "      <th>3</th>\n",
              "      <td>100006</td>\n",
              "      <td>0</td>\n",
              "      <td>Cash loans</td>\n",
              "      <td>F</td>\n",
              "      <td>N</td>\n",
              "      <td>Y</td>\n",
              "      <td>0</td>\n",
              "      <td>135000.0</td>\n",
              "      <td>312682.5</td>\n",
              "      <td>29686.5</td>\n",
              "      <td>297000.0</td>\n",
              "      <td>Unaccompanied</td>\n",
              "      <td>Working</td>\n",
              "      <td>Secondary / secondary special</td>\n",
              "      <td>Civil marriage</td>\n",
              "      <td>House / apartment</td>\n",
              "      <td>0.008019</td>\n",
              "      <td>-19005</td>\n",
              "      <td>-3039</td>\n",
              "      <td>-9833.0</td>\n",
              "      <td>-2437</td>\n",
              "      <td>NaN</td>\n",
              "      <td>1</td>\n",
              "      <td>1</td>\n",
              "      <td>0</td>\n",
              "      <td>1.0</td>\n",
              "      <td>0.0</td>\n",
              "      <td>0.0</td>\n",
              "      <td>Laborers</td>\n",
              "      <td>2.0</td>\n",
              "      <td>2.0</td>\n",
              "      <td>2.0</td>\n",
              "      <td>WEDNESDAY</td>\n",
              "      <td>17.0</td>\n",
              "      <td>0.0</td>\n",
              "      <td>0.0</td>\n",
              "      <td>0.0</td>\n",
              "      <td>0.0</td>\n",
              "      <td>0.0</td>\n",
              "      <td>0.0</td>\n",
              "      <td>Business Entity Type 3</td>\n",
              "      <td>NaN</td>\n",
              "      <td>0.650442</td>\n",
              "      <td>NaN</td>\n",
              "      <td>NaN</td>\n",
              "      <td>NaN</td>\n",
              "      <td>NaN</td>\n",
              "      <td>NaN</td>\n",
              "      <td>NaN</td>\n",
              "      <td>NaN</td>\n",
              "      <td>NaN</td>\n",
              "      <td>NaN</td>\n",
              "      <td>NaN</td>\n",
              "      <td>NaN</td>\n",
              "      <td>NaN</td>\n",
              "      <td>NaN</td>\n",
              "      <td>NaN</td>\n",
              "      <td>NaN</td>\n",
              "      <td>NaN</td>\n",
              "      <td>NaN</td>\n",
              "      <td>NaN</td>\n",
              "      <td>NaN</td>\n",
              "      <td>NaN</td>\n",
              "      <td>NaN</td>\n",
              "      <td>NaN</td>\n",
              "      <td>NaN</td>\n",
              "      <td>NaN</td>\n",
              "      <td>NaN</td>\n",
              "      <td>NaN</td>\n",
              "      <td>NaN</td>\n",
              "      <td>NaN</td>\n",
              "      <td>NaN</td>\n",
              "      <td>NaN</td>\n",
              "      <td>NaN</td>\n",
              "      <td>NaN</td>\n",
              "      <td>NaN</td>\n",
              "      <td>NaN</td>\n",
              "      <td>NaN</td>\n",
              "      <td>NaN</td>\n",
              "      <td>NaN</td>\n",
              "      <td>NaN</td>\n",
              "      <td>NaN</td>\n",
              "      <td>NaN</td>\n",
              "      <td>NaN</td>\n",
              "      <td>NaN</td>\n",
              "      <td>NaN</td>\n",
              "      <td>NaN</td>\n",
              "      <td>NaN</td>\n",
              "      <td>NaN</td>\n",
              "      <td>NaN</td>\n",
              "      <td>NaN</td>\n",
              "      <td>2.0</td>\n",
              "      <td>0.0</td>\n",
              "      <td>2.0</td>\n",
              "      <td>0.0</td>\n",
              "      <td>-617.0</td>\n",
              "      <td>0.0</td>\n",
              "      <td>1.0</td>\n",
              "      <td>0.0</td>\n",
              "      <td>0.0</td>\n",
              "      <td>0.0</td>\n",
              "      <td>0.0</td>\n",
              "      <td>0.0</td>\n",
              "      <td>0.0</td>\n",
              "      <td>0.0</td>\n",
              "      <td>0.0</td>\n",
              "      <td>0.0</td>\n",
              "      <td>0.0</td>\n",
              "      <td>0.0</td>\n",
              "      <td>0.0</td>\n",
              "      <td>0.0</td>\n",
              "      <td>0.0</td>\n",
              "      <td>0.0</td>\n",
              "      <td>0.0</td>\n",
              "      <td>0.0</td>\n",
              "      <td>0.0</td>\n",
              "      <td>NaN</td>\n",
              "      <td>NaN</td>\n",
              "      <td>NaN</td>\n",
              "      <td>NaN</td>\n",
              "      <td>NaN</td>\n",
              "      <td>NaN</td>\n",
              "    </tr>\n",
              "    <tr>\n",
              "      <th>4</th>\n",
              "      <td>100007</td>\n",
              "      <td>0</td>\n",
              "      <td>Cash loans</td>\n",
              "      <td>M</td>\n",
              "      <td>N</td>\n",
              "      <td>Y</td>\n",
              "      <td>0</td>\n",
              "      <td>121500.0</td>\n",
              "      <td>513000.0</td>\n",
              "      <td>21865.5</td>\n",
              "      <td>513000.0</td>\n",
              "      <td>Unaccompanied</td>\n",
              "      <td>Working</td>\n",
              "      <td>Secondary / secondary special</td>\n",
              "      <td>Single / not married</td>\n",
              "      <td>House / apartment</td>\n",
              "      <td>0.028663</td>\n",
              "      <td>-19932</td>\n",
              "      <td>-3038</td>\n",
              "      <td>-4311.0</td>\n",
              "      <td>-3458</td>\n",
              "      <td>NaN</td>\n",
              "      <td>1</td>\n",
              "      <td>1</td>\n",
              "      <td>0</td>\n",
              "      <td>1.0</td>\n",
              "      <td>0.0</td>\n",
              "      <td>0.0</td>\n",
              "      <td>Core staff</td>\n",
              "      <td>1.0</td>\n",
              "      <td>2.0</td>\n",
              "      <td>2.0</td>\n",
              "      <td>THURSDAY</td>\n",
              "      <td>11.0</td>\n",
              "      <td>0.0</td>\n",
              "      <td>0.0</td>\n",
              "      <td>0.0</td>\n",
              "      <td>0.0</td>\n",
              "      <td>1.0</td>\n",
              "      <td>1.0</td>\n",
              "      <td>Religion</td>\n",
              "      <td>NaN</td>\n",
              "      <td>0.322738</td>\n",
              "      <td>NaN</td>\n",
              "      <td>NaN</td>\n",
              "      <td>NaN</td>\n",
              "      <td>NaN</td>\n",
              "      <td>NaN</td>\n",
              "      <td>NaN</td>\n",
              "      <td>NaN</td>\n",
              "      <td>NaN</td>\n",
              "      <td>NaN</td>\n",
              "      <td>NaN</td>\n",
              "      <td>NaN</td>\n",
              "      <td>NaN</td>\n",
              "      <td>NaN</td>\n",
              "      <td>NaN</td>\n",
              "      <td>NaN</td>\n",
              "      <td>NaN</td>\n",
              "      <td>NaN</td>\n",
              "      <td>NaN</td>\n",
              "      <td>NaN</td>\n",
              "      <td>NaN</td>\n",
              "      <td>NaN</td>\n",
              "      <td>NaN</td>\n",
              "      <td>NaN</td>\n",
              "      <td>NaN</td>\n",
              "      <td>NaN</td>\n",
              "      <td>NaN</td>\n",
              "      <td>NaN</td>\n",
              "      <td>NaN</td>\n",
              "      <td>NaN</td>\n",
              "      <td>NaN</td>\n",
              "      <td>NaN</td>\n",
              "      <td>NaN</td>\n",
              "      <td>NaN</td>\n",
              "      <td>NaN</td>\n",
              "      <td>NaN</td>\n",
              "      <td>NaN</td>\n",
              "      <td>NaN</td>\n",
              "      <td>NaN</td>\n",
              "      <td>NaN</td>\n",
              "      <td>NaN</td>\n",
              "      <td>NaN</td>\n",
              "      <td>NaN</td>\n",
              "      <td>NaN</td>\n",
              "      <td>NaN</td>\n",
              "      <td>NaN</td>\n",
              "      <td>NaN</td>\n",
              "      <td>NaN</td>\n",
              "      <td>NaN</td>\n",
              "      <td>0.0</td>\n",
              "      <td>0.0</td>\n",
              "      <td>0.0</td>\n",
              "      <td>0.0</td>\n",
              "      <td>-1106.0</td>\n",
              "      <td>0.0</td>\n",
              "      <td>0.0</td>\n",
              "      <td>0.0</td>\n",
              "      <td>0.0</td>\n",
              "      <td>0.0</td>\n",
              "      <td>0.0</td>\n",
              "      <td>1.0</td>\n",
              "      <td>0.0</td>\n",
              "      <td>0.0</td>\n",
              "      <td>0.0</td>\n",
              "      <td>0.0</td>\n",
              "      <td>0.0</td>\n",
              "      <td>0.0</td>\n",
              "      <td>0.0</td>\n",
              "      <td>0.0</td>\n",
              "      <td>0.0</td>\n",
              "      <td>0.0</td>\n",
              "      <td>0.0</td>\n",
              "      <td>0.0</td>\n",
              "      <td>0.0</td>\n",
              "      <td>0.0</td>\n",
              "      <td>0.0</td>\n",
              "      <td>0.0</td>\n",
              "      <td>0.0</td>\n",
              "      <td>0.0</td>\n",
              "      <td>0.0</td>\n",
              "    </tr>\n",
              "  </tbody>\n",
              "</table>\n",
              "</div>\n",
              "    <div class=\"colab-df-buttons\">\n",
              "\n",
              "  <div class=\"colab-df-container\">\n",
              "    <button class=\"colab-df-convert\" onclick=\"convertToInteractive('df-d7c2b424-6bef-4274-aac1-41363ce4c7a9')\"\n",
              "            title=\"Convert this dataframe to an interactive table.\"\n",
              "            style=\"display:none;\">\n",
              "\n",
              "  <svg xmlns=\"http://www.w3.org/2000/svg\" height=\"24px\" viewBox=\"0 -960 960 960\">\n",
              "    <path d=\"M120-120v-720h720v720H120Zm60-500h600v-160H180v160Zm220 220h160v-160H400v160Zm0 220h160v-160H400v160ZM180-400h160v-160H180v160Zm440 0h160v-160H620v160ZM180-180h160v-160H180v160Zm440 0h160v-160H620v160Z\"/>\n",
              "  </svg>\n",
              "    </button>\n",
              "\n",
              "  <style>\n",
              "    .colab-df-container {\n",
              "      display:flex;\n",
              "      gap: 12px;\n",
              "    }\n",
              "\n",
              "    .colab-df-convert {\n",
              "      background-color: #E8F0FE;\n",
              "      border: none;\n",
              "      border-radius: 50%;\n",
              "      cursor: pointer;\n",
              "      display: none;\n",
              "      fill: #1967D2;\n",
              "      height: 32px;\n",
              "      padding: 0 0 0 0;\n",
              "      width: 32px;\n",
              "    }\n",
              "\n",
              "    .colab-df-convert:hover {\n",
              "      background-color: #E2EBFA;\n",
              "      box-shadow: 0px 1px 2px rgba(60, 64, 67, 0.3), 0px 1px 3px 1px rgba(60, 64, 67, 0.15);\n",
              "      fill: #174EA6;\n",
              "    }\n",
              "\n",
              "    .colab-df-buttons div {\n",
              "      margin-bottom: 4px;\n",
              "    }\n",
              "\n",
              "    [theme=dark] .colab-df-convert {\n",
              "      background-color: #3B4455;\n",
              "      fill: #D2E3FC;\n",
              "    }\n",
              "\n",
              "    [theme=dark] .colab-df-convert:hover {\n",
              "      background-color: #434B5C;\n",
              "      box-shadow: 0px 1px 3px 1px rgba(0, 0, 0, 0.15);\n",
              "      filter: drop-shadow(0px 1px 2px rgba(0, 0, 0, 0.3));\n",
              "      fill: #FFFFFF;\n",
              "    }\n",
              "  </style>\n",
              "\n",
              "    <script>\n",
              "      const buttonEl =\n",
              "        document.querySelector('#df-d7c2b424-6bef-4274-aac1-41363ce4c7a9 button.colab-df-convert');\n",
              "      buttonEl.style.display =\n",
              "        google.colab.kernel.accessAllowed ? 'block' : 'none';\n",
              "\n",
              "      async function convertToInteractive(key) {\n",
              "        const element = document.querySelector('#df-d7c2b424-6bef-4274-aac1-41363ce4c7a9');\n",
              "        const dataTable =\n",
              "          await google.colab.kernel.invokeFunction('convertToInteractive',\n",
              "                                                    [key], {});\n",
              "        if (!dataTable) return;\n",
              "\n",
              "        const docLinkHtml = 'Like what you see? Visit the ' +\n",
              "          '<a target=\"_blank\" href=https://colab.research.google.com/notebooks/data_table.ipynb>data table notebook</a>'\n",
              "          + ' to learn more about interactive tables.';\n",
              "        element.innerHTML = '';\n",
              "        dataTable['output_type'] = 'display_data';\n",
              "        await google.colab.output.renderOutput(dataTable, element);\n",
              "        const docLink = document.createElement('div');\n",
              "        docLink.innerHTML = docLinkHtml;\n",
              "        element.appendChild(docLink);\n",
              "      }\n",
              "    </script>\n",
              "  </div>\n",
              "\n",
              "\n",
              "    <div id=\"df-1380915b-fc15-4023-b51e-026840b15182\">\n",
              "      <button class=\"colab-df-quickchart\" onclick=\"quickchart('df-1380915b-fc15-4023-b51e-026840b15182')\"\n",
              "                title=\"Suggest charts\"\n",
              "                style=\"display:none;\">\n",
              "\n",
              "<svg xmlns=\"http://www.w3.org/2000/svg\" height=\"24px\"viewBox=\"0 0 24 24\"\n",
              "     width=\"24px\">\n",
              "    <g>\n",
              "        <path d=\"M19 3H5c-1.1 0-2 .9-2 2v14c0 1.1.9 2 2 2h14c1.1 0 2-.9 2-2V5c0-1.1-.9-2-2-2zM9 17H7v-7h2v7zm4 0h-2V7h2v10zm4 0h-2v-4h2v4z\"/>\n",
              "    </g>\n",
              "</svg>\n",
              "      </button>\n",
              "\n",
              "<style>\n",
              "  .colab-df-quickchart {\n",
              "      --bg-color: #E8F0FE;\n",
              "      --fill-color: #1967D2;\n",
              "      --hover-bg-color: #E2EBFA;\n",
              "      --hover-fill-color: #174EA6;\n",
              "      --disabled-fill-color: #AAA;\n",
              "      --disabled-bg-color: #DDD;\n",
              "  }\n",
              "\n",
              "  [theme=dark] .colab-df-quickchart {\n",
              "      --bg-color: #3B4455;\n",
              "      --fill-color: #D2E3FC;\n",
              "      --hover-bg-color: #434B5C;\n",
              "      --hover-fill-color: #FFFFFF;\n",
              "      --disabled-bg-color: #3B4455;\n",
              "      --disabled-fill-color: #666;\n",
              "  }\n",
              "\n",
              "  .colab-df-quickchart {\n",
              "    background-color: var(--bg-color);\n",
              "    border: none;\n",
              "    border-radius: 50%;\n",
              "    cursor: pointer;\n",
              "    display: none;\n",
              "    fill: var(--fill-color);\n",
              "    height: 32px;\n",
              "    padding: 0;\n",
              "    width: 32px;\n",
              "  }\n",
              "\n",
              "  .colab-df-quickchart:hover {\n",
              "    background-color: var(--hover-bg-color);\n",
              "    box-shadow: 0 1px 2px rgba(60, 64, 67, 0.3), 0 1px 3px 1px rgba(60, 64, 67, 0.15);\n",
              "    fill: var(--button-hover-fill-color);\n",
              "  }\n",
              "\n",
              "  .colab-df-quickchart-complete:disabled,\n",
              "  .colab-df-quickchart-complete:disabled:hover {\n",
              "    background-color: var(--disabled-bg-color);\n",
              "    fill: var(--disabled-fill-color);\n",
              "    box-shadow: none;\n",
              "  }\n",
              "\n",
              "  .colab-df-spinner {\n",
              "    border: 2px solid var(--fill-color);\n",
              "    border-color: transparent;\n",
              "    border-bottom-color: var(--fill-color);\n",
              "    animation:\n",
              "      spin 1s steps(1) infinite;\n",
              "  }\n",
              "\n",
              "  @keyframes spin {\n",
              "    0% {\n",
              "      border-color: transparent;\n",
              "      border-bottom-color: var(--fill-color);\n",
              "      border-left-color: var(--fill-color);\n",
              "    }\n",
              "    20% {\n",
              "      border-color: transparent;\n",
              "      border-left-color: var(--fill-color);\n",
              "      border-top-color: var(--fill-color);\n",
              "    }\n",
              "    30% {\n",
              "      border-color: transparent;\n",
              "      border-left-color: var(--fill-color);\n",
              "      border-top-color: var(--fill-color);\n",
              "      border-right-color: var(--fill-color);\n",
              "    }\n",
              "    40% {\n",
              "      border-color: transparent;\n",
              "      border-right-color: var(--fill-color);\n",
              "      border-top-color: var(--fill-color);\n",
              "    }\n",
              "    60% {\n",
              "      border-color: transparent;\n",
              "      border-right-color: var(--fill-color);\n",
              "    }\n",
              "    80% {\n",
              "      border-color: transparent;\n",
              "      border-right-color: var(--fill-color);\n",
              "      border-bottom-color: var(--fill-color);\n",
              "    }\n",
              "    90% {\n",
              "      border-color: transparent;\n",
              "      border-bottom-color: var(--fill-color);\n",
              "    }\n",
              "  }\n",
              "</style>\n",
              "\n",
              "      <script>\n",
              "        async function quickchart(key) {\n",
              "          const quickchartButtonEl =\n",
              "            document.querySelector('#' + key + ' button');\n",
              "          quickchartButtonEl.disabled = true;  // To prevent multiple clicks.\n",
              "          quickchartButtonEl.classList.add('colab-df-spinner');\n",
              "          try {\n",
              "            const charts = await google.colab.kernel.invokeFunction(\n",
              "                'suggestCharts', [key], {});\n",
              "          } catch (error) {\n",
              "            console.error('Error during call to suggestCharts:', error);\n",
              "          }\n",
              "          quickchartButtonEl.classList.remove('colab-df-spinner');\n",
              "          quickchartButtonEl.classList.add('colab-df-quickchart-complete');\n",
              "        }\n",
              "        (() => {\n",
              "          let quickchartButtonEl =\n",
              "            document.querySelector('#df-1380915b-fc15-4023-b51e-026840b15182 button');\n",
              "          quickchartButtonEl.style.display =\n",
              "            google.colab.kernel.accessAllowed ? 'block' : 'none';\n",
              "        })();\n",
              "      </script>\n",
              "    </div>\n",
              "\n",
              "    </div>\n",
              "  </div>\n"
            ],
            "application/vnd.google.colaboratory.intrinsic+json": {
              "type": "dataframe",
              "variable_name": "app_train"
            }
          },
          "metadata": {},
          "execution_count": 4
        }
      ],
      "source": [
        "app_train = pd.read_csv(\"/content/application_train.csv\")\n",
        "app_train.head(5)"
      ]
    },
    {
      "cell_type": "markdown",
      "id": "efda45d4",
      "metadata": {
        "id": "efda45d4"
      },
      "source": [
        "### 3️⃣ Nettoyage des données\n",
        "Suppression des doublons, gestion des valeurs manquantes, traitement des colonnes inutiles."
      ]
    },
    {
      "cell_type": "markdown",
      "id": "0edd88ab",
      "metadata": {
        "id": "0edd88ab"
      },
      "source": [
        "#### Suppression des colonnes avec Nan > 50 %"
      ]
    },
    {
      "cell_type": "code",
      "execution_count": 5,
      "id": "acd1853f",
      "metadata": {
        "colab": {
          "base_uri": "https://localhost:8080/"
        },
        "id": "acd1853f",
        "outputId": "a0c24aab-211d-4d13-bc36-9ee7ea531745"
      },
      "outputs": [
        {
          "output_type": "execute_result",
          "data": {
            "text/plain": [
              "(69860, 122)"
            ]
          },
          "metadata": {},
          "execution_count": 5
        }
      ],
      "source": [
        "app_train.shape\n",
        "# #Ici, on n'apas la colonne target\n",
        "# X_test.shape"
      ]
    },
    {
      "cell_type": "code",
      "execution_count": 6,
      "id": "809292e4",
      "metadata": {
        "id": "809292e4"
      },
      "outputs": [],
      "source": [
        "app_train.isna().mean()*100\n",
        "# On drop les colonnes avec plus de 50% de valeurs null\n",
        "seuil = 0.5  # 50%\n",
        "app_train_cleaned = app_train.loc[:, app_train.isnull().mean() < seuil]"
      ]
    },
    {
      "cell_type": "code",
      "execution_count": 7,
      "id": "2507bd71",
      "metadata": {
        "colab": {
          "base_uri": "https://localhost:8080/"
        },
        "id": "2507bd71",
        "outputId": "55f447f9-3db5-44bf-d752-b6b973adc901"
      },
      "outputs": [
        {
          "output_type": "execute_result",
          "data": {
            "text/plain": [
              "(69860, 81)"
            ]
          },
          "metadata": {},
          "execution_count": 7
        }
      ],
      "source": [
        "# On retombe à 81 colonnes après la suppression des colonnes à 50% de valeurs nulles\n",
        "app_train_cleaned.shape"
      ]
    },
    {
      "cell_type": "markdown",
      "id": "3325a5d9",
      "metadata": {
        "id": "3325a5d9"
      },
      "source": [
        "### 4️⃣ Encodage des variables catégorielles"
      ]
    },
    {
      "cell_type": "code",
      "execution_count": 8,
      "id": "f24ea359",
      "metadata": {
        "id": "f24ea359"
      },
      "outputs": [],
      "source": [
        "num_vars = app_train_cleaned.select_dtypes(include=['float64'])"
      ]
    },
    {
      "cell_type": "code",
      "execution_count": 9,
      "id": "05fb8317",
      "metadata": {
        "colab": {
          "base_uri": "https://localhost:8080/"
        },
        "id": "05fb8317",
        "outputId": "3d76ea5f-fc03-4af4-c63d-e207c9d6d369"
      },
      "outputs": [
        {
          "output_type": "stream",
          "name": "stdout",
          "text": [
            "NAME_CONTRACT_TYPE   2 ['Cash loans' 'Revolving loans']\n",
            "CODE_GENDER   3 ['M' 'F' 'XNA']\n",
            "FLAG_OWN_CAR   2 ['N' 'Y']\n",
            "FLAG_OWN_REALTY   2 ['Y' 'N']\n",
            "NAME_TYPE_SUITE   7 ['Unaccompanied' 'Family' 'Spouse, partner' 'Children' 'Other_A' nan\n",
            " 'Other_B' 'Group of people']\n",
            "NAME_INCOME_TYPE   8 ['Working' 'State servant' 'Commercial associate' 'Pensioner' 'Unemployed'\n",
            " 'Student' 'Businessman' 'Maternity leave']\n",
            "NAME_EDUCATION_TYPE   5 ['Secondary / secondary special' 'Higher education' 'Incomplete higher'\n",
            " 'Lower secondary' 'Academic degree']\n",
            "NAME_FAMILY_STATUS   6 ['Single / not married' 'Married' 'Civil marriage' 'Widow' 'Separated'\n",
            " 'Unknown']\n",
            "NAME_HOUSING_TYPE   6 ['House / apartment' 'Rented apartment' 'With parents'\n",
            " 'Municipal apartment' 'Office apartment' 'Co-op apartment']\n",
            "OCCUPATION_TYPE   18 ['Laborers' 'Core staff' 'Accountants' 'Managers' nan 'Drivers'\n",
            " 'Sales staff' 'Cleaning staff' 'Cooking staff' 'Private service staff'\n",
            " 'Medicine staff' 'Security staff' 'High skill tech staff'\n",
            " 'Waiters/barmen staff' 'Low-skill Laborers' 'Realty agents' 'Secretaries'\n",
            " 'IT staff' 'HR staff']\n",
            "WEEKDAY_APPR_PROCESS_START   7 ['WEDNESDAY' 'MONDAY' 'THURSDAY' 'SUNDAY' 'SATURDAY' 'FRIDAY' 'TUESDAY'\n",
            " nan]\n",
            "ORGANIZATION_TYPE   58 ['Business Entity Type 3' 'School' 'Government' 'Religion' 'Other' 'XNA'\n",
            " 'Electricity' 'Medicine' 'Business Entity Type 2' 'Self-employed'\n",
            " 'Transport: type 2' 'Construction' 'Housing' 'Kindergarten'\n",
            " 'Trade: type 7' 'Industry: type 11' 'Military' 'Services'\n",
            " 'Security Ministries' 'Transport: type 4' 'Industry: type 1' 'Emergency'\n",
            " 'Security' 'Trade: type 2' 'University' 'Transport: type 3' 'Police'\n",
            " 'Business Entity Type 1' 'Postal' 'Industry: type 4' 'Agriculture'\n",
            " 'Restaurant' 'Culture' 'Hotel' 'Industry: type 7' 'Trade: type 3'\n",
            " 'Industry: type 3' 'Bank' 'Industry: type 9' 'Insurance' 'Trade: type 6'\n",
            " 'Industry: type 2' 'Transport: type 1' 'Industry: type 12' 'Mobile'\n",
            " 'Trade: type 1' 'Industry: type 5' 'Industry: type 10' 'Legal Services'\n",
            " 'Advertising' 'Trade: type 5' 'Cleaning' 'Industry: type 13'\n",
            " 'Trade: type 4' 'Telecom' 'Industry: type 8' 'Realtor' 'Industry: type 6'\n",
            " nan]\n",
            "EMERGENCYSTATE_MODE   2 ['No' nan 'Yes']\n"
          ]
        }
      ],
      "source": [
        "# Les colonnes catégorielles à encoder\n",
        "# Afficher les valeurs uniques pour chaque colonnes catégorielles, pour celles qui ont 2 val : on utilise le label encoder et pour les autres le hot encoding\n",
        "for col in app_train_cleaned.select_dtypes('O').columns.to_list():\n",
        "    print ( col, ' ', app_train_cleaned[col].nunique(), app_train_cleaned[col].unique())"
      ]
    },
    {
      "cell_type": "markdown",
      "id": "42b2322a",
      "metadata": {
        "id": "42b2322a"
      },
      "source": [
        "On peut remarquer qu'il y a dans les colonnes une valeur 'XNA' qui est un NaN déguisé, dont il faut se débarasser."
      ]
    },
    {
      "cell_type": "code",
      "execution_count": 10,
      "id": "d4d33912",
      "metadata": {
        "colab": {
          "base_uri": "https://localhost:8080/"
        },
        "id": "d4d33912",
        "outputId": "d33a8e4c-43c3-49d1-86ed-827e1bdad0e9"
      },
      "outputs": [
        {
          "output_type": "stream",
          "name": "stderr",
          "text": [
            "<ipython-input-10-a08b69050dfe>:4: FutureWarning: A value is trying to be set on a copy of a DataFrame or Series through chained assignment using an inplace method.\n",
            "The behavior will change in pandas 3.0. This inplace method will never work because the intermediate object on which we are setting values always behaves as a copy.\n",
            "\n",
            "For example, when doing 'df[col].method(value, inplace=True)', try using 'df.method({col: value}, inplace=True)' or df[col] = df[col].method(value) instead, to perform the operation inplace on the original object.\n",
            "\n",
            "\n",
            "  app_train_cleaned[col].replace('XNA', np.nan, inplace=True)\n",
            "<ipython-input-10-a08b69050dfe>:4: SettingWithCopyWarning: \n",
            "A value is trying to be set on a copy of a slice from a DataFrame\n",
            "\n",
            "See the caveats in the documentation: https://pandas.pydata.org/pandas-docs/stable/user_guide/indexing.html#returning-a-view-versus-a-copy\n",
            "  app_train_cleaned[col].replace('XNA', np.nan, inplace=True)\n"
          ]
        }
      ],
      "source": [
        "# Remplacer les XNA par NaN, comme ça : on remplace aussi\n",
        "cat_features = app_train_cleaned.select_dtypes(include=['object']).columns\n",
        "for col in cat_features:\n",
        "    app_train_cleaned[col].replace('XNA', np.nan, inplace=True)"
      ]
    },
    {
      "cell_type": "code",
      "execution_count": 11,
      "id": "9dfe5c9e",
      "metadata": {
        "colab": {
          "base_uri": "https://localhost:8080/"
        },
        "id": "9dfe5c9e",
        "outputId": "1ea928a4-4a96-4767-ae67-38014781c97b"
      },
      "outputs": [
        {
          "output_type": "stream",
          "name": "stderr",
          "text": [
            "<ipython-input-11-a21c1e15b1b0>:8: SettingWithCopyWarning: \n",
            "A value is trying to be set on a copy of a slice from a DataFrame.\n",
            "Try using .loc[row_indexer,col_indexer] = value instead\n",
            "\n",
            "See the caveats in the documentation: https://pandas.pydata.org/pandas-docs/stable/user_guide/indexing.html#returning-a-view-versus-a-copy\n",
            "  app_train_cleaned[col] = label_encoder.transform(app_train_cleaned[col])\n",
            "<ipython-input-11-a21c1e15b1b0>:8: SettingWithCopyWarning: \n",
            "A value is trying to be set on a copy of a slice from a DataFrame.\n",
            "Try using .loc[row_indexer,col_indexer] = value instead\n",
            "\n",
            "See the caveats in the documentation: https://pandas.pydata.org/pandas-docs/stable/user_guide/indexing.html#returning-a-view-versus-a-copy\n",
            "  app_train_cleaned[col] = label_encoder.transform(app_train_cleaned[col])\n",
            "<ipython-input-11-a21c1e15b1b0>:8: SettingWithCopyWarning: \n",
            "A value is trying to be set on a copy of a slice from a DataFrame.\n",
            "Try using .loc[row_indexer,col_indexer] = value instead\n",
            "\n",
            "See the caveats in the documentation: https://pandas.pydata.org/pandas-docs/stable/user_guide/indexing.html#returning-a-view-versus-a-copy\n",
            "  app_train_cleaned[col] = label_encoder.transform(app_train_cleaned[col])\n"
          ]
        }
      ],
      "source": [
        "# Encodage des var catégorielles avec 2 classes\n",
        "label_encoder = preprocessing.LabelEncoder()\n",
        "\n",
        "for col in app_train_cleaned:\n",
        "    if app_train_cleaned[col].dtype == 'object':\n",
        "        if len(list(app_train_cleaned[col].unique())) <= 2:\n",
        "            label_encoder.fit(app_train_cleaned[col])\n",
        "            app_train_cleaned[col] = label_encoder.transform(app_train_cleaned[col])"
      ]
    },
    {
      "cell_type": "code",
      "execution_count": 12,
      "id": "12b5caef",
      "metadata": {
        "id": "12b5caef"
      },
      "outputs": [],
      "source": [
        "# Encodage des var catégorielles avec + 2 classes\n",
        "for col in app_train_cleaned:\n",
        "    if app_train_cleaned[col].dtype == 'object':\n",
        "        if len(list(app_train_cleaned[col].unique())) > 2:\n",
        "            app_train_encod = pd.get_dummies(app_train_cleaned, dtype=int)"
      ]
    },
    {
      "cell_type": "code",
      "execution_count": 13,
      "id": "ade64d31",
      "metadata": {
        "colab": {
          "base_uri": "https://localhost:8080/"
        },
        "id": "ade64d31",
        "outputId": "d76accf3-f6ab-4264-aa9d-5a0ad5f0b023"
      },
      "outputs": [
        {
          "output_type": "execute_result",
          "data": {
            "text/plain": [
              "(69860, 189)"
            ]
          },
          "metadata": {},
          "execution_count": 13
        }
      ],
      "source": [
        "# On passe à 246 variables\n",
        "app_train_encod.shape"
      ]
    },
    {
      "cell_type": "markdown",
      "id": "8f868ae4",
      "metadata": {
        "id": "8f868ae4"
      },
      "source": [
        "#### Train and test split"
      ]
    },
    {
      "cell_type": "markdown",
      "id": "98af63a2",
      "metadata": {
        "id": "98af63a2"
      },
      "source": [
        "On sépare le dataset en train, test et val (pour nos tests à la mano)"
      ]
    },
    {
      "cell_type": "code",
      "execution_count": 14,
      "id": "7e8aef03",
      "metadata": {
        "id": "7e8aef03"
      },
      "outputs": [],
      "source": [
        "X = app_train_encod.drop(columns=['TARGET'])  # Features\n",
        "y = app_train_encod['TARGET']                # Cible\n",
        "\n",
        "# 1. Séparation initiale : train (70%) vs temp (30%)\n",
        "X_train, X_temp, y_train, y_temp = train_test_split(\n",
        "    X, y, test_size=0.3, random_state=42, stratify=y\n",
        ")\n",
        "\n",
        "# 2. Séparation de temp : validation (15%) vs test (15%)\n",
        "X_val, X_test, y_val, y_test = train_test_split(\n",
        "    X_temp, y_temp, test_size=2/3, random_state=42, stratify=y_temp\n",
        ")"
      ]
    },
    {
      "cell_type": "code",
      "execution_count": 15,
      "id": "1a3d5608",
      "metadata": {
        "colab": {
          "base_uri": "https://localhost:8080/"
        },
        "id": "1a3d5608",
        "outputId": "02776cc5-c6c0-491a-daca-8d971e858661"
      },
      "outputs": [
        {
          "output_type": "execute_result",
          "data": {
            "text/plain": [
              "(13972, 188)"
            ]
          },
          "metadata": {},
          "execution_count": 15
        }
      ],
      "source": [
        "X_test.shape"
      ]
    },
    {
      "cell_type": "markdown",
      "id": "47a50b5f",
      "metadata": {
        "id": "47a50b5f"
      },
      "source": [
        "#### Imputation des colonnes avec Nan < 50 %"
      ]
    },
    {
      "cell_type": "code",
      "execution_count": 39,
      "id": "fb74f3de",
      "metadata": {
        "id": "fb74f3de"
      },
      "outputs": [],
      "source": [
        "knn_imputer = KNNImputer(n_neighbors=2)\n",
        "X_train_emputed = knn_imputer.fit_transform(X_train)\n",
        "X_test_emputed = knn_imputer.fit_transform(X_test)"
      ]
    },
    {
      "cell_type": "code",
      "execution_count": 17,
      "id": "d75e7d0c",
      "metadata": {
        "id": "d75e7d0c"
      },
      "outputs": [],
      "source": [
        "# # # On remplace par la médiane en attendant\n",
        "# # X_train_emputed = X_train.fillna(X_train.median())\n",
        "# # X_test_emputed = X_test.fillna(X_test.median())"
      ]
    },
    {
      "cell_type": "code",
      "execution_count": 41,
      "id": "b37953dd",
      "metadata": {
        "colab": {
          "base_uri": "https://localhost:8080/",
          "height": 147
        },
        "id": "b37953dd",
        "outputId": "d9494ada-80b3-4f15-ab8d-b50298fca50e"
      },
      "outputs": [
        {
          "output_type": "error",
          "ename": "AttributeError",
          "evalue": "'numpy.ndarray' object has no attribute 'isna'",
          "traceback": [
            "\u001b[0;31m---------------------------------------------------------------------------\u001b[0m",
            "\u001b[0;31mAttributeError\u001b[0m                            Traceback (most recent call last)",
            "\u001b[0;32m<ipython-input-41-2d279e37766c>\u001b[0m in \u001b[0;36m<cell line: 0>\u001b[0;34m()\u001b[0m\n\u001b[0;32m----> 1\u001b[0;31m \u001b[0mX_train_emputed\u001b[0m\u001b[0;34m.\u001b[0m\u001b[0misna\u001b[0m\u001b[0;34m(\u001b[0m\u001b[0;34m)\u001b[0m\u001b[0;34m.\u001b[0m\u001b[0mmean\u001b[0m\u001b[0;34m(\u001b[0m\u001b[0;34m)\u001b[0m \u001b[0;34m*\u001b[0m \u001b[0;36m100\u001b[0m\u001b[0;34m\u001b[0m\u001b[0;34m\u001b[0m\u001b[0m\n\u001b[0m",
            "\u001b[0;31mAttributeError\u001b[0m: 'numpy.ndarray' object has no attribute 'isna'"
          ]
        }
      ],
      "source": [
        "X_train_emputed.isna().mean() * 100"
      ]
    },
    {
      "cell_type": "markdown",
      "id": "7555418a",
      "metadata": {
        "id": "7555418a"
      },
      "source": [
        "### 5️⃣ Rééchantillonnage des classes\n",
        "Gestion du déséquilibre des classes avec une méthode de suréchantillonnage."
      ]
    },
    {
      "cell_type": "code",
      "execution_count": 42,
      "id": "35475a6a",
      "metadata": {
        "colab": {
          "base_uri": "https://localhost:8080/",
          "height": 424
        },
        "id": "35475a6a",
        "outputId": "3cc51d54-e811-46c8-d788-0af640273a37"
      },
      "outputs": [
        {
          "output_type": "execute_result",
          "data": {
            "text/plain": [
              "<Axes: ylabel='count'>"
            ]
          },
          "metadata": {},
          "execution_count": 42
        },
        {
          "output_type": "display_data",
          "data": {
            "text/plain": [
              "<Figure size 640x480 with 1 Axes>"
            ],
            "image/png": "[encoded data removed]"
          },
          "metadata": {}
        }
      ],
      "source": [
        "#On est sur un cas de déséquillibre : 91 vs 8 %\n",
        "app_train['TARGET'].value_counts().plot(kind='pie',autopct='%1.1f%%')"
      ]
    },
    {
      "cell_type": "code",
      "execution_count": 43,
      "id": "15255ce3",
      "metadata": {
        "id": "15255ce3"
      },
      "outputs": [],
      "source": [
        "# Utiliser RandomOverSampler pour suréchantillonner la classe minoritaire\n",
        "ros = RandomOverSampler(random_state=42)\n",
        "X_train_resampled, y_train_resampled = ros.fit_resample(X_train_emputed, y_train)"
      ]
    },
    {
      "cell_type": "code",
      "execution_count": 44,
      "id": "8f8d10c1",
      "metadata": {
        "colab": {
          "base_uri": "https://localhost:8080/",
          "height": 424
        },
        "id": "8f8d10c1",
        "outputId": "7637fe69-3429-4623-9aa5-452ec6472da1"
      },
      "outputs": [
        {
          "output_type": "execute_result",
          "data": {
            "text/plain": [
              "<Axes: ylabel='count'>"
            ]
          },
          "metadata": {},
          "execution_count": 44
        },
        {
          "output_type": "display_data",
          "data": {
            "text/plain": [
              "<Figure size 640x480 with 1 Axes>"
            ],
            "image/png": "[encoded data removed]"
          },
          "metadata": {}
        }
      ],
      "source": [
        "y_train_resampled.value_counts().plot(kind='pie',autopct='%1.1f%%')"
      ]
    },
    {
      "cell_type": "markdown",
      "id": "44217c68",
      "metadata": {
        "id": "44217c68"
      },
      "source": [
        "### 6️⃣ Encodage et normalisation\n",
        "Transformation des variables catégorielles et mise à l’échelle des données."
      ]
    },
    {
      "cell_type": "code",
      "execution_count": 45,
      "id": "6a8efe18",
      "metadata": {
        "id": "6a8efe18"
      },
      "outputs": [],
      "source": [
        "# Standardisation\n",
        "scaler = StandardScaler()\n",
        "X_train_scaled = scaler.fit_transform(X_train_resampled)\n",
        "X_test_scaled = scaler.fit_transform(X_test_emputed)"
      ]
    },
    {
      "cell_type": "code",
      "execution_count": 46,
      "id": "1fb857b3",
      "metadata": {
        "colab": {
          "base_uri": "https://localhost:8080/"
        },
        "id": "1fb857b3",
        "outputId": "32cafaa3-d7e1-48d0-8bde-72910af32b91"
      },
      "outputs": [
        {
          "output_type": "execute_result",
          "data": {
            "text/plain": [
              "array([[ 1.72016298, -0.29006018,  1.44606675, ..., -0.05956641,\n",
              "        -0.96737713, -0.08624061],\n",
              "       [ 0.44856387, -0.29006018, -0.69153101, ..., -0.05956641,\n",
              "        -0.96737713, -0.08624061],\n",
              "       [ 1.43048936, -0.29006018,  1.44606675, ..., -0.05956641,\n",
              "        -0.96737713, -0.08624061],\n",
              "       ...,\n",
              "       [ 0.42425922, -0.29006018, -0.69153101, ..., -0.05956641,\n",
              "         1.03372301, -0.08624061],\n",
              "       [ 0.08890662, -0.29006018, -0.69153101, ..., -0.05956641,\n",
              "        -0.96737713, -0.08624061],\n",
              "       [ 0.46274159, -0.29006018, -0.69153101, ..., -0.05956641,\n",
              "        -0.96737713, -0.08624061]])"
            ]
          },
          "metadata": {},
          "execution_count": 46
        }
      ],
      "source": [
        "X_train_scaled"
      ]
    },
    {
      "cell_type": "code",
      "execution_count": 47,
      "id": "fe00c0a3",
      "metadata": {
        "id": "fe00c0a3"
      },
      "outputs": [],
      "source": [
        "# Normalisation\n",
        "scaler = MinMaxScaler()\n",
        "X_train_norm = scaler.fit_transform(X_train_resampled)\n",
        "X_test_norm = scaler.fit_transform(X_test_emputed)"
      ]
    },
    {
      "cell_type": "code",
      "execution_count": 48,
      "id": "02866497",
      "metadata": {
        "colab": {
          "base_uri": "https://localhost:8080/"
        },
        "id": "02866497",
        "outputId": "39b11e70-6e18-4cd9-a0a0-49c02436895e"
      },
      "outputs": [
        {
          "output_type": "execute_result",
          "data": {
            "text/plain": [
              "array([[0.99334872, 0.        , 1.        , ..., 0.        , 0.        ,\n",
              "        0.        ],\n",
              "       [0.62921875, 0.        , 0.        , ..., 0.        , 0.        ,\n",
              "        0.        ],\n",
              "       [0.91039895, 0.        , 1.        , ..., 0.        , 0.        ,\n",
              "        0.        ],\n",
              "       ...,\n",
              "       [0.62225897, 0.        , 0.        , ..., 0.        , 1.        ,\n",
              "        0.        ],\n",
              "       [0.52622876, 0.        , 0.        , ..., 0.        , 0.        ,\n",
              "        0.        ],\n",
              "       [0.63327863, 0.        , 0.        , ..., 0.        , 0.        ,\n",
              "        0.        ]])"
            ]
          },
          "metadata": {},
          "execution_count": 48
        }
      ],
      "source": [
        "X_train_norm"
      ]
    },
    {
      "cell_type": "markdown",
      "id": "531e2c5e",
      "metadata": {
        "id": "531e2c5e"
      },
      "source": [
        "### 7️⃣ Réduction de dimension avec PCA\n",
        "Réduction du nombre de dimensions tout en conservant un maximum de variance (95%)."
      ]
    },
    {
      "cell_type": "code",
      "execution_count": 49,
      "id": "bfa0ad7d",
      "metadata": {
        "id": "bfa0ad7d"
      },
      "outputs": [],
      "source": [
        "# # La matrice de corrélation étant illisible, nous réduisons notre champ d'étude aux corrélations à += 80%\n",
        "\n",
        "# # Calcul de la matrice de corrélation absolue\n",
        "# corr_matrix = num_vars.corr().abs()\n",
        "\n",
        "# # Masquage de la diagonale et de la moitié supérieure\n",
        "# mask = np.triu(np.ones(corr_matrix.shape), k=1).astype(bool)\n",
        "# upper_tri = corr_matrix.where(mask)\n",
        "\n",
        "# # Transformation en paires (col1, col2) et filtrage des corrélations fortes\n",
        "# high_corr_pairs = (\n",
        "#     upper_tri.stack()\n",
        "#     .reset_index()\n",
        "#     .rename(columns={\"level_0\": \"Variable 1\", \"level_1\": \"Variable 2\", 0: \"Correlation\"})\n",
        "# )\n",
        "\n",
        "# # Filtrer pour les corrélations ≥ 0.8\n",
        "# high_corr_pairs = high_corr_pairs[high_corr_pairs[\"Correlation\"] >= 0.8]\n",
        "\n",
        "# # Trier par corrélation décroissante\n",
        "# high_corr_pairs = high_corr_pairs.sort_values(by=\"Correlation\", ascending=False)\n",
        "\n",
        "# # Afficher\n",
        "# print(f\"\\nPaires de variables avec une corrélation ≥ 0.8 :\\n\")\n",
        "# print(high_corr_pairs)\n"
      ]
    },
    {
      "cell_type": "code",
      "execution_count": 50,
      "id": "6c815204",
      "metadata": {
        "colab": {
          "base_uri": "https://localhost:8080/"
        },
        "id": "6c815204",
        "outputId": "cabc175c-449c-422a-bd7b-ad3e545ebd0f"
      },
      "outputs": [
        {
          "output_type": "stream",
          "name": "stdout",
          "text": [
            "Nombre de composantes conservées : 147\n",
            "Nombre de composantes conservées : 147\n"
          ]
        }
      ],
      "source": [
        "\n",
        "# PCA pour 95% de variance expliquée\n",
        "pca = PCA(n_components=0.95, random_state=42)\n",
        "X_train_pca = pca.fit_transform(X_train_scaled)\n",
        "X_test_pca = pca.transform(X_test_scaled)\n",
        "\n",
        "print(f\"Nombre de composantes conservées : {X_train_pca.shape[1]}\")\n",
        "print(f\"Nombre de composantes conservées : {X_test_pca.shape[1]}\")"
      ]
    },
    {
      "cell_type": "markdown",
      "id": "bc497fcf",
      "metadata": {
        "id": "bc497fcf"
      },
      "source": [
        "## Les modèles utilisés"
      ]
    },
    {
      "cell_type": "markdown",
      "id": "b2a0f058",
      "metadata": {
        "id": "b2a0f058"
      },
      "source": [
        "### 1️⃣ XGBClassifier"
      ]
    },
    {
      "cell_type": "markdown",
      "id": "78a21a92",
      "metadata": {
        "id": "78a21a92"
      },
      "source": [
        "Avec les données normalisées :"
      ]
    },
    {
      "cell_type": "code",
      "execution_count": 51,
      "id": "70bc1524",
      "metadata": {
        "id": "70bc1524"
      },
      "outputs": [],
      "source": [
        "# model = XGBClassifier(use_label_encoder=False, eval_metric='logloss')\n",
        "# model.fit(X_train_norm, y_train_resampled)\n",
        "\n",
        "# y_pred = model.predict(X_test_norm)\n",
        "\n",
        "# accuracy = accuracy_score(y_test, y_pred)\n",
        "# print(f'Accuracy: {accuracy:.4f}')\n",
        "\n",
        "# # Afficher le rapport de classification mis à jour\n",
        "# print(\"Classification Report:\\n\", classification_report(y_test, y_pred))"
      ]
    },
    {
      "cell_type": "markdown",
      "id": "a263f684",
      "metadata": {
        "id": "a263f684"
      },
      "source": [
        "Avec les données non normalisées :"
      ]
    },
    {
      "cell_type": "code",
      "execution_count": 52,
      "id": "831fdf08",
      "metadata": {
        "colab": {
          "base_uri": "https://localhost:8080/"
        },
        "id": "831fdf08",
        "outputId": "b71db2a4-1233-4330-dbc2-9530c1143b9c"
      },
      "outputs": [
        {
          "output_type": "stream",
          "name": "stderr",
          "text": [
            "/usr/local/lib/python3.11/dist-packages/xgboost/core.py:158: UserWarning: [20:26:20] WARNING: /workspace/src/learner.cc:740: \n",
            "Parameters: { \"use_label_encoder\" } are not used.\n",
            "\n",
            "  warnings.warn(smsg, UserWarning)\n"
          ]
        },
        {
          "output_type": "stream",
          "name": "stdout",
          "text": [
            "Accuracy: 0.9168\n",
            "Classification Report:\n",
            "               precision    recall  f1-score   support\n",
            "\n",
            "           0       0.92      0.99      0.96     12849\n",
            "           1       0.35      0.04      0.08      1123\n",
            "\n",
            "    accuracy                           0.92     13972\n",
            "   macro avg       0.64      0.52      0.52     13972\n",
            "weighted avg       0.88      0.92      0.89     13972\n",
            "\n"
          ]
        }
      ],
      "source": [
        "model = XGBClassifier(use_label_encoder=False, eval_metric='logloss')\n",
        "model.fit(X_train, y_train)\n",
        "\n",
        "y_pred = model.predict(X_test)\n",
        "\n",
        "accuracy = accuracy_score(y_test, y_pred)\n",
        "print(f'Accuracy: {accuracy:.4f}')\n",
        "\n",
        "# Afficher le rapport de classification mis à jour\n",
        "print(\"Classification Report:\\n\", classification_report(y_test, y_pred))"
      ]
    },
    {
      "cell_type": "markdown",
      "id": "cc32bbf1",
      "metadata": {
        "id": "cc32bbf1"
      },
      "source": [
        "### 2️⃣ Decision Tree"
      ]
    },
    {
      "cell_type": "code",
      "execution_count": 53,
      "id": "d50ab768",
      "metadata": {
        "id": "d50ab768"
      },
      "outputs": [],
      "source": [
        "# #Decision Tree\n",
        "# from sklearn.tree import DecisionTreeClassifier\n",
        "\n",
        "# decision_tree = DecisionTreeClassifier()\n",
        "# decision_tree.fit(X_train  , y_train)\n",
        "\n",
        "# acc_decision_tree = round(decision_tree.score(X_train, y_train) * 100, 2)\n",
        "# acc_decision_tree\n",
        "\n",
        "# # Faire des prédictions sur l'ensemble de test\n",
        "# y_pred = decision_tree.predict(X_test)\n",
        "\n",
        "# # Évaluer les performances du modèle\n",
        "# accuracy = accuracy_score(y_test, y_pred)\n",
        "# print(f\"Accuracy: {accuracy:.2f}\")\n",
        "\n",
        "# # Afficher le rapport de classification mis à jour\n",
        "# print(\"Classification Report:\\n\", classification_report(y_test, y_pred))\n",
        "\n",
        "# #Afficher la matrice de confusion\n",
        "# print(confusion_matrix(y_test,y_pred))"
      ]
    },
    {
      "cell_type": "code",
      "execution_count": 54,
      "id": "634cb58b",
      "metadata": {
        "colab": {
          "base_uri": "https://localhost:8080/"
        },
        "id": "634cb58b",
        "outputId": "e59add25-ea33-4d42-bab1-0db05091b2b5"
      },
      "outputs": [
        {
          "output_type": "stream",
          "name": "stdout",
          "text": [
            "Accuracy: 0.85\n",
            "Classification Report:\n",
            "               precision    recall  f1-score   support\n",
            "\n",
            "           0       0.92      0.91      0.92     12849\n",
            "           1       0.11      0.12      0.12      1123\n",
            "\n",
            "    accuracy                           0.85     13972\n",
            "   macro avg       0.52      0.52      0.52     13972\n",
            "weighted avg       0.86      0.85      0.85     13972\n",
            "\n",
            "[[11747  1102]\n",
            " [  986   137]]\n"
          ]
        }
      ],
      "source": [
        "#Decision Tree\n",
        "from sklearn.tree import DecisionTreeClassifier\n",
        "\n",
        "decision_tree = DecisionTreeClassifier()\n",
        "decision_tree.fit(X_train_norm  , y_train_resampled)\n",
        "\n",
        "acc_decision_tree = round(decision_tree.score(X_train_norm, y_train_resampled) * 100, 2)\n",
        "acc_decision_tree\n",
        "\n",
        "# Faire des prédictions sur l'ensemble de test\n",
        "y_pred = decision_tree.predict(X_test_norm)\n",
        "\n",
        "# Évaluer les performances du modèle\n",
        "accuracy = accuracy_score(y_test, y_pred)\n",
        "print(f\"Accuracy: {accuracy:.2f}\")\n",
        "\n",
        "# Afficher le rapport de classification mis à jour\n",
        "print(\"Classification Report:\\n\", classification_report(y_test, y_pred))\n",
        "\n",
        "#Afficher la matrice de confusion\n",
        "print(confusion_matrix(y_test,y_pred))"
      ]
    },
    {
      "cell_type": "markdown",
      "id": "a368789d",
      "metadata": {
        "id": "a368789d"
      },
      "source": [
        "### 3️⃣  Construction du modèle de réseau de neurones\n",
        "Création d’un modèle simple avec Keras : Dense, Dropout, Sigmoid pour la sortie."
      ]
    },
    {
      "cell_type": "markdown",
      "id": "3e44447a",
      "metadata": {
        "id": "3e44447a"
      },
      "source": [
        "Utilisation d’un callback `EarlyStopping` pour éviter le surapprentissage."
      ]
    },
    {
      "cell_type": "code",
      "execution_count": 55,
      "id": "697d9534",
      "metadata": {
        "colab": {
          "base_uri": "https://localhost:8080/"
        },
        "id": "697d9534",
        "outputId": "031bbea0-0435-4869-8746-994287445aec"
      },
      "outputs": [
        {
          "output_type": "stream",
          "name": "stderr",
          "text": [
            "/usr/local/lib/python3.11/dist-packages/keras/src/layers/core/dense.py:87: UserWarning: Do not pass an `input_shape`/`input_dim` argument to a layer. When using Sequential models, prefer using an `Input(shape)` object as the first layer in the model instead.\n",
            "  super().__init__(activity_regularizer=activity_regularizer, **kwargs)\n"
          ]
        },
        {
          "output_type": "stream",
          "name": "stdout",
          "text": [
            "Epoch 1/50\n",
            "\u001b[1m352/352\u001b[0m \u001b[32m━━━━━━━━━━━━━━━━━━━━\u001b[0m\u001b[37m\u001b[0m \u001b[1m4s\u001b[0m 6ms/step - AUC: 0.6290 - loss: 0.6771 - val_AUC: 0.7310 - val_loss: 0.7160\n",
            "Epoch 2/50\n",
            "\u001b[1m352/352\u001b[0m \u001b[32m━━━━━━━━━━━━━━━━━━━━\u001b[0m\u001b[37m\u001b[0m \u001b[1m3s\u001b[0m 7ms/step - AUC: 0.7405 - loss: 0.6010 - val_AUC: 0.7317 - val_loss: 0.6900\n",
            "Epoch 3/50\n",
            "\u001b[1m352/352\u001b[0m \u001b[32m━━━━━━━━━━━━━━━━━━━━\u001b[0m\u001b[37m\u001b[0m \u001b[1m2s\u001b[0m 7ms/step - AUC: 0.7614 - loss: 0.5821 - val_AUC: 0.7294 - val_loss: 0.6713\n",
            "Epoch 4/50\n",
            "\u001b[1m352/352\u001b[0m \u001b[32m━━━━━━━━━━━━━━━━━━━━\u001b[0m\u001b[37m\u001b[0m \u001b[1m2s\u001b[0m 6ms/step - AUC: 0.7778 - loss: 0.5639 - val_AUC: 0.7274 - val_loss: 0.6837\n",
            "Epoch 5/50\n",
            "\u001b[1m352/352\u001b[0m \u001b[32m━━━━━━━━━━━━━━━━━━━━\u001b[0m\u001b[37m\u001b[0m \u001b[1m3s\u001b[0m 7ms/step - AUC: 0.7944 - loss: 0.5433 - val_AUC: 0.7259 - val_loss: 0.7235\n",
            "Epoch 6/50\n",
            "\u001b[1m352/352\u001b[0m \u001b[32m━━━━━━━━━━━━━━━━━━━━\u001b[0m\u001b[37m\u001b[0m \u001b[1m3s\u001b[0m 7ms/step - AUC: 0.8056 - loss: 0.5296 - val_AUC: 0.7215 - val_loss: 0.6893\n"
          ]
        },
        {
          "output_type": "execute_result",
          "data": {
            "text/plain": [
              "<keras.src.callbacks.history.History at 0x7d19706471d0>"
            ]
          },
          "metadata": {},
          "execution_count": 55
        }
      ],
      "source": [
        "\n",
        "# Architecture du modèle\n",
        "model = Sequential()\n",
        "\n",
        "# Couche d'entrée\n",
        "model.add(Dense(128, activation='relu', input_shape=(X_train_pca.shape[1],)))\n",
        "model.add(Dropout(0.3))\n",
        "\n",
        "# Couches cachées\n",
        "model.add(Dense(64, activation='relu'))\n",
        "model.add(Dropout(0.3))\n",
        "\n",
        "model.add(Dense(32, activation='relu'))\n",
        "model.add(Dropout(0.2))\n",
        "\n",
        "# Couche de sortie\n",
        "model.add(Dense(1, activation='sigmoid'))\n",
        "\n",
        "# Compilation du modèle\n",
        "model.compile(optimizer='adam', loss='binary_crossentropy', metrics=['AUC'])\n",
        "\n",
        "# Early stopping\n",
        "early_stop = EarlyStopping(monitor='val_loss', patience=3, restore_best_weights=True)\n",
        "\n",
        "# Entraînement\n",
        "model.fit(\n",
        "    X_train_pca, y_train_resampled,\n",
        "    epochs=50,\n",
        "    batch_size=256,\n",
        "    validation_data=(X_test_pca, y_test),\n",
        "    callbacks=[early_stop]\n",
        ")\n"
      ]
    },
    {
      "cell_type": "code",
      "execution_count": 56,
      "id": "55dcfeea",
      "metadata": {
        "id": "55dcfeea"
      },
      "outputs": [],
      "source": [
        "\n",
        "# # Architecture du modèle\n",
        "# model = Sequential()\n",
        "# model.add(Dense(64, activation='relu', input_shape=(X_train_resampled.shape[1],)))\n",
        "# model.add(Dropout(0.4))\n",
        "# model.add(Dense(32, activation='relu'))\n",
        "# model.add(Dense(1, activation='sigmoid'))\n",
        "\n",
        "# # Compilation du modèle\n",
        "# model.compile(optimizer='adam', loss='binary_crossentropy', metrics=['AUC'])\n",
        "\n",
        "# # Early stopping\n",
        "# early_stop = EarlyStopping(monitor='val_loss', patience=3, restore_best_weights=True)\n",
        "\n",
        "# # Entraînement\n",
        "# model.fit(\n",
        "#     X_train_resampled, y_train_resampled,\n",
        "#     epochs=50,\n",
        "#     batch_size=256,\n",
        "#     validation_data=(X_test_scaled, y_test),\n",
        "#     callbacks=[early_stop]\n",
        "# )\n"
      ]
    },
    {
      "cell_type": "markdown",
      "id": "c09e2d1b",
      "metadata": {
        "id": "c09e2d1b"
      },
      "source": [
        "### 5️⃣ Évaluation et interprétation\n",
        "Calcul de l’AUC, matrice de confusion, et autres métriques pertinentes."
      ]
    },
    {
      "cell_type": "markdown",
      "id": "03d4e33b",
      "metadata": {
        "id": "03d4e33b"
      },
      "source": [
        "### 🔍 Visualisation de la variance expliquée par le PCA"
      ]
    },
    {
      "cell_type": "code",
      "execution_count": 57,
      "id": "8814aa51",
      "metadata": {
        "colab": {
          "base_uri": "https://localhost:8080/",
          "height": 565
        },
        "id": "8814aa51",
        "outputId": "51955817-9b87-4c92-f4d5-20758e69d347"
      },
      "outputs": [
        {
          "output_type": "display_data",
          "data": {
            "text/plain": [
              "<Figure size 1000x600 with 1 Axes>"
            ],
            "image/png": "[encoded data removed]"
          },
          "metadata": {}
        }
      ],
      "source": [
        "import matplotlib.pyplot as plt\n",
        "import numpy as np\n",
        "\n",
        "pca_full = PCA().fit(X_train_scaled)\n",
        "plt.figure(figsize=(10, 6))\n",
        "plt.plot(np.cumsum(pca_full.explained_variance_ratio_), marker='o')\n",
        "plt.xlabel('Nombre de composantes')\n",
        "plt.ylabel('Variance expliquée cumulée')\n",
        "plt.title(\"Variance expliquée cumulée selon le nombre de composantes PCA\")\n",
        "plt.grid(True)\n",
        "plt.show()\n"
      ]
    },
    {
      "cell_type": "markdown",
      "id": "945fe3d3",
      "metadata": {
        "id": "945fe3d3"
      },
      "source": [
        "### 📈 Courbes d'apprentissage (Loss et AUC)"
      ]
    },
    {
      "cell_type": "code",
      "execution_count": 58,
      "id": "ddf93aab",
      "metadata": {
        "colab": {
          "base_uri": "https://localhost:8080/",
          "height": 483
        },
        "id": "ddf93aab",
        "outputId": "7f29322f-6965-4000-9732-f147941293a7"
      },
      "outputs": [
        {
          "output_type": "display_data",
          "data": {
            "text/plain": [
              "<Figure size 1400x500 with 2 Axes>"
            ],
            "image/png": "[encoded data removed]"
          },
          "metadata": {}
        }
      ],
      "source": [
        "# Affichage des courbes d'entraînement\n",
        "history = model.history\n",
        "\n",
        "plt.figure(figsize=(14, 5))\n",
        "\n",
        "# Courbe Loss\n",
        "plt.subplot(1, 2, 1)\n",
        "plt.plot(history.history['loss'], label='Train loss')\n",
        "plt.plot(history.history['val_loss'], label='Val loss')\n",
        "plt.title(\"Courbe de perte\")\n",
        "plt.xlabel(\"Epochs\")\n",
        "plt.ylabel(\"Loss\")\n",
        "plt.legend()\n",
        "plt.grid(True)\n",
        "\n",
        "# Courbe AUC\n",
        "plt.subplot(1, 2, 2)\n",
        "plt.plot(history.history['AUC'], label='Train AUC')\n",
        "plt.plot(history.history['val_AUC'], label='Val AUC')\n",
        "plt.title(\"Courbe AUC\")\n",
        "plt.xlabel(\"Epochs\")\n",
        "plt.ylabel(\"AUC\")\n",
        "plt.legend()\n",
        "plt.grid(True)\n",
        "\n",
        "plt.tight_layout()\n",
        "plt.show()\n"
      ]
    },
    {
      "cell_type": "markdown",
      "id": "08da8f2c",
      "metadata": {
        "id": "08da8f2c"
      },
      "source": [
        "### 🔲 Matrice de confusion"
      ]
    },
    {
      "cell_type": "code",
      "execution_count": 59,
      "id": "9aa3aefc",
      "metadata": {
        "colab": {
          "base_uri": "https://localhost:8080/",
          "height": 490
        },
        "id": "9aa3aefc",
        "outputId": "0788998d-dbca-40e9-b6c3-c0aeac3daab8"
      },
      "outputs": [
        {
          "output_type": "stream",
          "name": "stdout",
          "text": [
            "\u001b[1m437/437\u001b[0m \u001b[32m━━━━━━━━━━━━━━━━━━━━\u001b[0m\u001b[37m\u001b[0m \u001b[1m1s\u001b[0m 2ms/step\n"
          ]
        },
        {
          "output_type": "display_data",
          "data": {
            "text/plain": [
              "<Figure size 640x480 with 2 Axes>"
            ],
            "image/png": "[encoded data removed]"
          },
          "metadata": {}
        }
      ],
      "source": [
        "from sklearn.metrics import confusion_matrix, ConfusionMatrixDisplay\n",
        "\n",
        "y_pred_proba = model.predict(X_test_pca)\n",
        "y_pred_class = (y_pred_proba >= 0.5).astype(int)\n",
        "\n",
        "cm = confusion_matrix(y_test, y_pred_class)\n",
        "disp = ConfusionMatrixDisplay(confusion_matrix=cm)\n",
        "disp.plot(cmap='Blues')\n",
        "plt.title(\"Matrice de confusion\")\n",
        "plt.show()\n"
      ]
    },
    {
      "cell_type": "markdown",
      "id": "ed4eaf6d",
      "metadata": {
        "id": "ed4eaf6d"
      },
      "source": [
        "### 🧮 Courbe ROC et AUC"
      ]
    },
    {
      "cell_type": "code",
      "execution_count": 60,
      "id": "15fa4a6d",
      "metadata": {
        "colab": {
          "base_uri": "https://localhost:8080/",
          "height": 564
        },
        "id": "15fa4a6d",
        "outputId": "1146afd9-f5b3-4494-9964-4627f2aaeeed"
      },
      "outputs": [
        {
          "output_type": "display_data",
          "data": {
            "text/plain": [
              "<Figure size 800x600 with 1 Axes>"
            ],
            "image/png": "[encoded data removed]"
          },
          "metadata": {}
        }
      ],
      "source": [
        "from sklearn.metrics import roc_curve, roc_auc_score\n",
        "\n",
        "fpr, tpr, _ = roc_curve(y_test, y_pred_proba)\n",
        "roc_auc = roc_auc_score(y_test, y_pred_proba)\n",
        "\n",
        "plt.figure(figsize=(8, 6))\n",
        "plt.plot(fpr, tpr, label=f\"AUC = {roc_auc:.2f}\")\n",
        "plt.plot([0, 1], [0, 1], 'k--')\n",
        "plt.xlabel(\"Taux de faux positifs\")\n",
        "plt.ylabel(\"Taux de vrais positifs\")\n",
        "plt.title(\"Courbe ROC\")\n",
        "plt.legend(loc='lower right')\n",
        "plt.grid(True)\n",
        "plt.show()\n"
      ]
    },
    {
      "cell_type": "markdown",
      "id": "7c0ad553",
      "metadata": {
        "id": "7c0ad553"
      },
      "source": [
        "### 📋 Rapport de classification"
      ]
    },
    {
      "cell_type": "code",
      "execution_count": 61,
      "id": "4cf5709f",
      "metadata": {
        "colab": {
          "base_uri": "https://localhost:8080/"
        },
        "id": "4cf5709f",
        "outputId": "d3c18003-828f-44fd-bb1b-3122167fc9c1"
      },
      "outputs": [
        {
          "output_type": "stream",
          "name": "stdout",
          "text": [
            "              precision    recall  f1-score   support\n",
            "\n",
            "           0       0.96      0.55      0.70     12849\n",
            "           1       0.13      0.77      0.22      1123\n",
            "\n",
            "    accuracy                           0.57     13972\n",
            "   macro avg       0.55      0.66      0.46     13972\n",
            "weighted avg       0.90      0.57      0.66     13972\n",
            "\n"
          ]
        }
      ],
      "source": [
        "from sklearn.metrics import classification_report\n",
        "\n",
        "print(classification_report(y_test, y_pred_class))\n"
      ]
    }
  ],
  "metadata": {
    "kernelspec": {
      "display_name": "Python 3",
      "language": "python",
      "name": "python3"
    },
    "language_info": {
      "codemirror_mode": {
        "name": "ipython",
        "version": 3
      },
      "file_extension": ".py",
      "mimetype": "text/x-python",
      "name": "python",
      "nbconvert_exporter": "python",
      "pygments_lexer": "ipython3",
      "version": "3.12.10"
    },
    "colab": {
      "provenance": []
    }
  },
  "nbformat": 4,
  "nbformat_minor": 5
}